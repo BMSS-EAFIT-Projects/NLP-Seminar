{
 "cells": [
  {
   "cell_type": "code",
   "execution_count": 31,
   "id": "9295b009",
   "metadata": {},
   "outputs": [
    {
     "name": "stderr",
     "output_type": "stream",
     "text": [
      "[nltk_data] Downloading package stopwords to\n",
      "[nltk_data]     C:\\Users\\afpue\\AppData\\Roaming\\nltk_data...\n",
      "[nltk_data]   Package stopwords is already up-to-date!\n"
     ]
    }
   ],
   "source": [
    "import pandas as pd\n",
    "import re\n",
    "from nltk.corpus import stopwords\n",
    "import nltk\n",
    "nltk.download('stopwords')\n",
    "import spacy"
   ]
  },
  {
   "cell_type": "code",
   "execution_count": 32,
   "id": "74ce2372",
   "metadata": {},
   "outputs": [],
   "source": [
    "archivo = r\"C:\\Users\\afpue\\Documents\\GitHub\\NLP-Seminar\\publicaciones\\binaria.xlsx\"\n",
    "df = pd.read_excel(archivo)\n",
    "\n",
    "def limpiar(texto):\n",
    "    texto = texto.lower()\n",
    "    return re.findall(r'\\b\\w+\\b', texto)\n",
    "\n",
    "docs = df['Documento'].apply(limpiar).tolist()\n",
    "clases = df['Clase'].tolist()"
   ]
  },
  {
   "cell_type": "code",
   "execution_count": 33,
   "id": "f0bda65a",
   "metadata": {},
   "outputs": [
    {
     "data": {
      "application/vnd.microsoft.datawrangler.viewer.v0+json": {
       "columns": [
        {
         "name": "index",
         "rawType": "int64",
         "type": "integer"
        },
        {
         "name": "Documento",
         "rawType": "object",
         "type": "string"
        },
        {
         "name": "Clase",
         "rawType": "object",
         "type": "string"
        }
       ],
       "ref": "09ca1db0-3d0a-4777-a7c4-6b29030d4c3f",
       "rows": [
        [
         "0",
         "Por qué mejor no seleccionar presencialmente a ver si el COVID 19 hace justicia, con algunos personajes.",
         "Negativo"
        ],
        [
         "1",
         "Italia registra un aumento en las muertes por covid-19 en la última jornada y 321 nuevos infectados",
         "Negativo"
        ],
        [
         "2",
         "Borrell saluda acuerdo entre gobierno y oposición para combatir el Covid-19 en Venezuela",
         "Positivo"
        ],
        [
         "3",
         "la desgracia de que bogotá la maneja la dictadora,\n \nPor sus intentos de autoritarismo \npor nuestros hermanos encarselados en el  campo de concentracion kennedy.",
         "Negativo"
        ],
        [
         "4",
         "Gestionan regidores cajas para intubación de pacientes con COVID-19",
         "Positivo"
        ],
        [
         "5",
         "Enhorabuena a todos los sanitarios. No hay un premio más merecido que el Princesa de Asturias de la Concordia 2020, por vuestro trabajo en primera línea contra la Covid-19. GRACIAS!!",
         "Positivo"
        ],
        [
         "6",
         "Datos caóticos: España dobla los muertos en siete días y suben los contagios",
         "Negativo"
        ],
        [
         "7",
         "Mineros colombianos recibirán 100.000 dólares por emergencia del Covid-19",
         "Positivo"
        ],
        [
         "8",
         "Gobiernos y filántropos recaudan 7,400 mde para vacuna contra COVID-19 ",
         "Positivo"
        ],
        [
         "9",
         "Miembros del Congreso de EE.UU. apoyan a Cuba ante la Covid-19",
         "Positivo"
        ],
        [
         "10",
         "El mundo me parece más amable, más humano, menos raro. ",
         "Positivo"
        ]
       ],
       "shape": {
        "columns": 2,
        "rows": 11
       }
      },
      "text/html": [
       "<div>\n",
       "<style scoped>\n",
       "    .dataframe tbody tr th:only-of-type {\n",
       "        vertical-align: middle;\n",
       "    }\n",
       "\n",
       "    .dataframe tbody tr th {\n",
       "        vertical-align: top;\n",
       "    }\n",
       "\n",
       "    .dataframe thead th {\n",
       "        text-align: right;\n",
       "    }\n",
       "</style>\n",
       "<table border=\"1\" class=\"dataframe\">\n",
       "  <thead>\n",
       "    <tr style=\"text-align: right;\">\n",
       "      <th></th>\n",
       "      <th>Documento</th>\n",
       "      <th>Clase</th>\n",
       "    </tr>\n",
       "  </thead>\n",
       "  <tbody>\n",
       "    <tr>\n",
       "      <th>0</th>\n",
       "      <td>Por qué mejor no seleccionar presencialmente a...</td>\n",
       "      <td>Negativo</td>\n",
       "    </tr>\n",
       "    <tr>\n",
       "      <th>1</th>\n",
       "      <td>Italia registra un aumento en las muertes por ...</td>\n",
       "      <td>Negativo</td>\n",
       "    </tr>\n",
       "    <tr>\n",
       "      <th>2</th>\n",
       "      <td>Borrell saluda acuerdo entre gobierno y oposic...</td>\n",
       "      <td>Positivo</td>\n",
       "    </tr>\n",
       "    <tr>\n",
       "      <th>3</th>\n",
       "      <td>la desgracia de que bogotá la maneja la dictad...</td>\n",
       "      <td>Negativo</td>\n",
       "    </tr>\n",
       "    <tr>\n",
       "      <th>4</th>\n",
       "      <td>Gestionan regidores cajas para intubación de p...</td>\n",
       "      <td>Positivo</td>\n",
       "    </tr>\n",
       "    <tr>\n",
       "      <th>5</th>\n",
       "      <td>Enhorabuena a todos los sanitarios. No hay un ...</td>\n",
       "      <td>Positivo</td>\n",
       "    </tr>\n",
       "    <tr>\n",
       "      <th>6</th>\n",
       "      <td>Datos caóticos: España dobla los muertos en si...</td>\n",
       "      <td>Negativo</td>\n",
       "    </tr>\n",
       "    <tr>\n",
       "      <th>7</th>\n",
       "      <td>Mineros colombianos recibirán 100.000 dólares ...</td>\n",
       "      <td>Positivo</td>\n",
       "    </tr>\n",
       "    <tr>\n",
       "      <th>8</th>\n",
       "      <td>Gobiernos y filántropos recaudan 7,400 mde par...</td>\n",
       "      <td>Positivo</td>\n",
       "    </tr>\n",
       "    <tr>\n",
       "      <th>9</th>\n",
       "      <td>Miembros del Congreso de EE.UU. apoyan a Cuba ...</td>\n",
       "      <td>Positivo</td>\n",
       "    </tr>\n",
       "    <tr>\n",
       "      <th>10</th>\n",
       "      <td>El mundo me parece más amable, más humano, men...</td>\n",
       "      <td>Positivo</td>\n",
       "    </tr>\n",
       "  </tbody>\n",
       "</table>\n",
       "</div>"
      ],
      "text/plain": [
       "                                            Documento     Clase\n",
       "0   Por qué mejor no seleccionar presencialmente a...  Negativo\n",
       "1   Italia registra un aumento en las muertes por ...  Negativo\n",
       "2   Borrell saluda acuerdo entre gobierno y oposic...  Positivo\n",
       "3   la desgracia de que bogotá la maneja la dictad...  Negativo\n",
       "4   Gestionan regidores cajas para intubación de p...  Positivo\n",
       "5   Enhorabuena a todos los sanitarios. No hay un ...  Positivo\n",
       "6   Datos caóticos: España dobla los muertos en si...  Negativo\n",
       "7   Mineros colombianos recibirán 100.000 dólares ...  Positivo\n",
       "8   Gobiernos y filántropos recaudan 7,400 mde par...  Positivo\n",
       "9   Miembros del Congreso de EE.UU. apoyan a Cuba ...  Positivo\n",
       "10  El mundo me parece más amable, más humano, men...  Positivo"
      ]
     },
     "execution_count": 33,
     "metadata": {},
     "output_type": "execute_result"
    }
   ],
   "source": [
    "df"
   ]
  },
  {
   "cell_type": "code",
   "execution_count": 34,
   "id": "5394db15",
   "metadata": {},
   "outputs": [
    {
     "data": {
      "application/vnd.microsoft.datawrangler.viewer.v0+json": {
       "columns": [
        {
         "name": "index",
         "rawType": "int64",
         "type": "integer"
        },
        {
         "name": "Documento",
         "rawType": "object",
         "type": "string"
        },
        {
         "name": "Cantidad_palabras",
         "rawType": "int64",
         "type": "integer"
        }
       ],
       "ref": "547ad38d-5e55-4e4e-b912-f3e356efbdf7",
       "rows": [
        [
         "0",
         "Por qué mejor no seleccionar presencialmente a ver si el COVID 19 hace justicia, con algunos personajes.",
         "17"
        ],
        [
         "1",
         "Italia registra un aumento en las muertes por covid-19 en la última jornada y 321 nuevos infectados",
         "18"
        ],
        [
         "2",
         "Borrell saluda acuerdo entre gobierno y oposición para combatir el Covid-19 en Venezuela",
         "14"
        ],
        [
         "3",
         "la desgracia de que bogotá la maneja la dictadora,\n \nPor sus intentos de autoritarismo \npor nuestros hermanos encarselados en el  campo de concentracion kennedy.",
         "24"
        ],
        [
         "4",
         "Gestionan regidores cajas para intubación de pacientes con COVID-19",
         "10"
        ],
        [
         "5",
         "Enhorabuena a todos los sanitarios. No hay un premio más merecido que el Princesa de Asturias de la Concordia 2020, por vuestro trabajo en primera línea contra la Covid-19. GRACIAS!!",
         "31"
        ],
        [
         "6",
         "Datos caóticos: España dobla los muertos en siete días y suben los contagios",
         "13"
        ],
        [
         "7",
         "Mineros colombianos recibirán 100.000 dólares por emergencia del Covid-19",
         "11"
        ],
        [
         "8",
         "Gobiernos y filántropos recaudan 7,400 mde para vacuna contra COVID-19 ",
         "12"
        ],
        [
         "9",
         "Miembros del Congreso de EE.UU. apoyan a Cuba ante la Covid-19",
         "13"
        ],
        [
         "10",
         "El mundo me parece más amable, más humano, menos raro. ",
         "10"
        ]
       ],
       "shape": {
        "columns": 2,
        "rows": 11
       }
      },
      "text/html": [
       "<div>\n",
       "<style scoped>\n",
       "    .dataframe tbody tr th:only-of-type {\n",
       "        vertical-align: middle;\n",
       "    }\n",
       "\n",
       "    .dataframe tbody tr th {\n",
       "        vertical-align: top;\n",
       "    }\n",
       "\n",
       "    .dataframe thead th {\n",
       "        text-align: right;\n",
       "    }\n",
       "</style>\n",
       "<table border=\"1\" class=\"dataframe\">\n",
       "  <thead>\n",
       "    <tr style=\"text-align: right;\">\n",
       "      <th></th>\n",
       "      <th>Documento</th>\n",
       "      <th>Cantidad_palabras</th>\n",
       "    </tr>\n",
       "  </thead>\n",
       "  <tbody>\n",
       "    <tr>\n",
       "      <th>0</th>\n",
       "      <td>Por qué mejor no seleccionar presencialmente a...</td>\n",
       "      <td>17</td>\n",
       "    </tr>\n",
       "    <tr>\n",
       "      <th>1</th>\n",
       "      <td>Italia registra un aumento en las muertes por ...</td>\n",
       "      <td>18</td>\n",
       "    </tr>\n",
       "    <tr>\n",
       "      <th>2</th>\n",
       "      <td>Borrell saluda acuerdo entre gobierno y oposic...</td>\n",
       "      <td>14</td>\n",
       "    </tr>\n",
       "    <tr>\n",
       "      <th>3</th>\n",
       "      <td>la desgracia de que bogotá la maneja la dictad...</td>\n",
       "      <td>24</td>\n",
       "    </tr>\n",
       "    <tr>\n",
       "      <th>4</th>\n",
       "      <td>Gestionan regidores cajas para intubación de p...</td>\n",
       "      <td>10</td>\n",
       "    </tr>\n",
       "    <tr>\n",
       "      <th>5</th>\n",
       "      <td>Enhorabuena a todos los sanitarios. No hay un ...</td>\n",
       "      <td>31</td>\n",
       "    </tr>\n",
       "    <tr>\n",
       "      <th>6</th>\n",
       "      <td>Datos caóticos: España dobla los muertos en si...</td>\n",
       "      <td>13</td>\n",
       "    </tr>\n",
       "    <tr>\n",
       "      <th>7</th>\n",
       "      <td>Mineros colombianos recibirán 100.000 dólares ...</td>\n",
       "      <td>11</td>\n",
       "    </tr>\n",
       "    <tr>\n",
       "      <th>8</th>\n",
       "      <td>Gobiernos y filántropos recaudan 7,400 mde par...</td>\n",
       "      <td>12</td>\n",
       "    </tr>\n",
       "    <tr>\n",
       "      <th>9</th>\n",
       "      <td>Miembros del Congreso de EE.UU. apoyan a Cuba ...</td>\n",
       "      <td>13</td>\n",
       "    </tr>\n",
       "    <tr>\n",
       "      <th>10</th>\n",
       "      <td>El mundo me parece más amable, más humano, men...</td>\n",
       "      <td>10</td>\n",
       "    </tr>\n",
       "  </tbody>\n",
       "</table>\n",
       "</div>"
      ],
      "text/plain": [
       "                                            Documento  Cantidad_palabras\n",
       "0   Por qué mejor no seleccionar presencialmente a...                 17\n",
       "1   Italia registra un aumento en las muertes por ...                 18\n",
       "2   Borrell saluda acuerdo entre gobierno y oposic...                 14\n",
       "3   la desgracia de que bogotá la maneja la dictad...                 24\n",
       "4   Gestionan regidores cajas para intubación de p...                 10\n",
       "5   Enhorabuena a todos los sanitarios. No hay un ...                 31\n",
       "6   Datos caóticos: España dobla los muertos en si...                 13\n",
       "7   Mineros colombianos recibirán 100.000 dólares ...                 11\n",
       "8   Gobiernos y filántropos recaudan 7,400 mde par...                 12\n",
       "9   Miembros del Congreso de EE.UU. apoyan a Cuba ...                 13\n",
       "10  El mundo me parece más amable, más humano, men...                 10"
      ]
     },
     "execution_count": 34,
     "metadata": {},
     "output_type": "execute_result"
    }
   ],
   "source": [
    "df['Cantidad_palabras'] = df['Documento'].apply(lambda x: len(re.findall(r'\\b\\w+\\b', x)))\n",
    "df[['Documento', 'Cantidad_palabras']]"
   ]
  },
  {
   "cell_type": "code",
   "execution_count": 35,
   "id": "0258e7d9",
   "metadata": {},
   "outputs": [
    {
     "data": {
      "text/plain": [
       "np.float64(15.727272727272727)"
      ]
     },
     "execution_count": 35,
     "metadata": {},
     "output_type": "execute_result"
    }
   ],
   "source": [
    "promedio_palabras = df['Cantidad_palabras'].mean()\n",
    "promedio_palabras"
   ]
  },
  {
   "cell_type": "code",
   "execution_count": 39,
   "id": "c24c4bd1",
   "metadata": {},
   "outputs": [
    {
     "data": {
      "application/vnd.microsoft.datawrangler.viewer.v0+json": {
       "columns": [
        {
         "name": "index",
         "rawType": "int64",
         "type": "integer"
        },
        {
         "name": "Documento",
         "rawType": "object",
         "type": "string"
        },
        {
         "name": "Documento_Lematizado",
         "rawType": "object",
         "type": "string"
        }
       ],
       "ref": "4c0b5ff3-b885-4289-b835-453aac0d5d7a",
       "rows": [
        [
         "0",
         "Por qué mejor no seleccionar presencialmente a ver si el COVID 19 hace justicia, con algunos personajes.",
         "por qué mejor no seleccionar presencialmente a ver si el COVID 19 hacer justicia , con alguno personaje ."
        ],
        [
         "1",
         "Italia registra un aumento en las muertes por covid-19 en la última jornada y 321 nuevos infectados",
         "Italia registrar uno aumento en el muerte por covid-19 en el último jornada y 321 nuevo infectado"
        ],
        [
         "2",
         "Borrell saluda acuerdo entre gobierno y oposición para combatir el Covid-19 en Venezuela",
         "Borrell saludar acuerdo entre gobierno y oposición para combatir el Covid-19 en Venezuela"
        ],
        [
         "3",
         "la desgracia de que bogotá la maneja la dictadora,\n \nPor sus intentos de autoritarismo \npor nuestros hermanos encarselados en el  campo de concentracion kennedy.",
         "el desgracia de que bogotá el maneja el dictadora , \n \n Por su intento de autoritarismo \n por nuestro hermano encarselado en el   campo de concentracion kennedy ."
        ],
        [
         "4",
         "Gestionan regidores cajas para intubación de pacientes con COVID-19",
         "gestionar regidor caja para intubación de paciente con COVID-19"
        ],
        [
         "5",
         "Enhorabuena a todos los sanitarios. No hay un premio más merecido que el Princesa de Asturias de la Concordia 2020, por vuestro trabajo en primera línea contra la Covid-19. GRACIAS!!",
         "Enhorabuena a todo el sanitario . no haber uno premio más merecido que el Princesa de Asturias de el Concordia 2020 , por vuestro trabajo en primero línea contra el Covid-19 . gracias ! !"
        ],
        [
         "6",
         "Datos caóticos: España dobla los muertos en siete días y suben los contagios",
         "dato caótico : España dobla el muerto en siete día y subir el contagio"
        ],
        [
         "7",
         "Mineros colombianos recibirán 100.000 dólares por emergencia del Covid-19",
         "minero colombiano recibir 100000 dólares por emergencia del Covid-19"
        ],
        [
         "8",
         "Gobiernos y filántropos recaudan 7,400 mde para vacuna contra COVID-19 ",
         "gobierno y filántropo recaudar 7.400 mde para vacuna contra COVID-19"
        ],
        [
         "9",
         "Miembros del Congreso de EE.UU. apoyan a Cuba ante la Covid-19",
         "miembro del Congreso de EE.UU. apoyar a Cuba ante el Covid-19"
        ],
        [
         "10",
         "El mundo me parece más amable, más humano, menos raro. ",
         "el mundo yo parecer más amable , más humano , menos raro ."
        ]
       ],
       "shape": {
        "columns": 2,
        "rows": 11
       }
      },
      "text/html": [
       "<div>\n",
       "<style scoped>\n",
       "    .dataframe tbody tr th:only-of-type {\n",
       "        vertical-align: middle;\n",
       "    }\n",
       "\n",
       "    .dataframe tbody tr th {\n",
       "        vertical-align: top;\n",
       "    }\n",
       "\n",
       "    .dataframe thead th {\n",
       "        text-align: right;\n",
       "    }\n",
       "</style>\n",
       "<table border=\"1\" class=\"dataframe\">\n",
       "  <thead>\n",
       "    <tr style=\"text-align: right;\">\n",
       "      <th></th>\n",
       "      <th>Documento</th>\n",
       "      <th>Documento_Lematizado</th>\n",
       "    </tr>\n",
       "  </thead>\n",
       "  <tbody>\n",
       "    <tr>\n",
       "      <th>0</th>\n",
       "      <td>Por qué mejor no seleccionar presencialmente a...</td>\n",
       "      <td>por qué mejor no seleccionar presencialmente a...</td>\n",
       "    </tr>\n",
       "    <tr>\n",
       "      <th>1</th>\n",
       "      <td>Italia registra un aumento en las muertes por ...</td>\n",
       "      <td>Italia registrar uno aumento en el muerte por ...</td>\n",
       "    </tr>\n",
       "    <tr>\n",
       "      <th>2</th>\n",
       "      <td>Borrell saluda acuerdo entre gobierno y oposic...</td>\n",
       "      <td>Borrell saludar acuerdo entre gobierno y oposi...</td>\n",
       "    </tr>\n",
       "    <tr>\n",
       "      <th>3</th>\n",
       "      <td>la desgracia de que bogotá la maneja la dictad...</td>\n",
       "      <td>el desgracia de que bogotá el maneja el dictad...</td>\n",
       "    </tr>\n",
       "    <tr>\n",
       "      <th>4</th>\n",
       "      <td>Gestionan regidores cajas para intubación de p...</td>\n",
       "      <td>gestionar regidor caja para intubación de paci...</td>\n",
       "    </tr>\n",
       "    <tr>\n",
       "      <th>5</th>\n",
       "      <td>Enhorabuena a todos los sanitarios. No hay un ...</td>\n",
       "      <td>Enhorabuena a todo el sanitario . no haber uno...</td>\n",
       "    </tr>\n",
       "    <tr>\n",
       "      <th>6</th>\n",
       "      <td>Datos caóticos: España dobla los muertos en si...</td>\n",
       "      <td>dato caótico : España dobla el muerto en siete...</td>\n",
       "    </tr>\n",
       "    <tr>\n",
       "      <th>7</th>\n",
       "      <td>Mineros colombianos recibirán 100.000 dólares ...</td>\n",
       "      <td>minero colombiano recibir 100000 dólares por e...</td>\n",
       "    </tr>\n",
       "    <tr>\n",
       "      <th>8</th>\n",
       "      <td>Gobiernos y filántropos recaudan 7,400 mde par...</td>\n",
       "      <td>gobierno y filántropo recaudar 7.400 mde para ...</td>\n",
       "    </tr>\n",
       "    <tr>\n",
       "      <th>9</th>\n",
       "      <td>Miembros del Congreso de EE.UU. apoyan a Cuba ...</td>\n",
       "      <td>miembro del Congreso de EE.UU. apoyar a Cuba a...</td>\n",
       "    </tr>\n",
       "    <tr>\n",
       "      <th>10</th>\n",
       "      <td>El mundo me parece más amable, más humano, men...</td>\n",
       "      <td>el mundo yo parecer más amable , más humano , ...</td>\n",
       "    </tr>\n",
       "  </tbody>\n",
       "</table>\n",
       "</div>"
      ],
      "text/plain": [
       "                                            Documento  \\\n",
       "0   Por qué mejor no seleccionar presencialmente a...   \n",
       "1   Italia registra un aumento en las muertes por ...   \n",
       "2   Borrell saluda acuerdo entre gobierno y oposic...   \n",
       "3   la desgracia de que bogotá la maneja la dictad...   \n",
       "4   Gestionan regidores cajas para intubación de p...   \n",
       "5   Enhorabuena a todos los sanitarios. No hay un ...   \n",
       "6   Datos caóticos: España dobla los muertos en si...   \n",
       "7   Mineros colombianos recibirán 100.000 dólares ...   \n",
       "8   Gobiernos y filántropos recaudan 7,400 mde par...   \n",
       "9   Miembros del Congreso de EE.UU. apoyan a Cuba ...   \n",
       "10  El mundo me parece más amable, más humano, men...   \n",
       "\n",
       "                                 Documento_Lematizado  \n",
       "0   por qué mejor no seleccionar presencialmente a...  \n",
       "1   Italia registrar uno aumento en el muerte por ...  \n",
       "2   Borrell saludar acuerdo entre gobierno y oposi...  \n",
       "3   el desgracia de que bogotá el maneja el dictad...  \n",
       "4   gestionar regidor caja para intubación de paci...  \n",
       "5   Enhorabuena a todo el sanitario . no haber uno...  \n",
       "6   dato caótico : España dobla el muerto en siete...  \n",
       "7   minero colombiano recibir 100000 dólares por e...  \n",
       "8   gobierno y filántropo recaudar 7.400 mde para ...  \n",
       "9   miembro del Congreso de EE.UU. apoyar a Cuba a...  \n",
       "10  el mundo yo parecer más amable , más humano , ...  "
      ]
     },
     "execution_count": 39,
     "metadata": {},
     "output_type": "execute_result"
    }
   ],
   "source": [
    "nlp = spacy.load('es_core_news_sm')\n",
    "\n",
    "def lematizar(texto):\n",
    "    doc = nlp(texto)\n",
    "    return ' '.join([token.lemma_ for token in doc])\n",
    "\n",
    "df['Documento_Lematizado'] = df['Documento'].apply(lematizar)\n",
    "df[['Documento', 'Documento_Lematizado']]\n"
   ]
  },
  {
   "cell_type": "code",
   "execution_count": null,
   "id": "f0fe9372",
   "metadata": {},
   "outputs": [
    {
     "name": "stdout",
     "output_type": "stream",
     "text": [
      "                                            Documento  \\\n",
      "0   Por qué mejor no seleccionar presencialmente a...   \n",
      "1   Italia registra un aumento en las muertes por ...   \n",
      "2   Borrell saluda acuerdo entre gobierno y oposic...   \n",
      "3   la desgracia de que bogotá la maneja la dictad...   \n",
      "4   Gestionan regidores cajas para intubación de p...   \n",
      "5   Enhorabuena a todos los sanitarios. No hay un ...   \n",
      "6   Datos caóticos: España dobla los muertos en si...   \n",
      "7   Mineros colombianos recibirán 100.000 dólares ...   \n",
      "8   Gobiernos y filántropos recaudan 7,400 mde par...   \n",
      "9   Miembros del Congreso de EE.UU. apoyan a Cuba ...   \n",
      "10  El mundo me parece más amable, más humano, men...   \n",
      "\n",
      "                                 Documento_Lematizado  \n",
      "0   por qué mejor no seleccionar presencialmente a...  \n",
      "1   Italia registrar uno aumento en el muerte por ...  \n",
      "2   Borrell saludar acuerdo entre gobierno y oposi...  \n",
      "3   el desgracia de que bogotá el maneja el dictad...  \n",
      "4   gestionar regidor caja para intubación de paci...  \n",
      "5   Enhorabuena a todo el sanitario . no haber uno...  \n",
      "6   dato caótico : España dobla el muerto en siete...  \n",
      "7   minero colombiano recibir 100000 dólares por e...  \n",
      "8   gobierno y filántropo recaudar 7.400 mde para ...  \n",
      "9   miembro del Congreso de EE.UU. apoyar a Cuba a...  \n",
      "10  el mundo yo parecer más amable , más humano , ...  \n"
     ]
    }
   ],
   "source": [
    "print(df[['Documento', 'Documento_Lematizado']])"
   ]
  },
  {
   "cell_type": "code",
   "execution_count": null,
   "id": "57a29d5e",
   "metadata": {},
   "outputs": [
    {
     "data": {
      "application/vnd.microsoft.datawrangler.viewer.v0+json": {
       "columns": [
        {
         "name": "index",
         "rawType": "int64",
         "type": "integer"
        },
        {
         "name": "Documento",
         "rawType": "object",
         "type": "string"
        },
        {
         "name": "Stopwords",
         "rawType": "object",
         "type": "unknown"
        },
        {
         "name": "Documento_sin_stopwords",
         "rawType": "object",
         "type": "string"
        }
       ],
       "ref": "3f7e7c05-6d0d-4a45-ab77-201e151baaa0",
       "rows": [
        [
         "0",
         "Por qué mejor no seleccionar presencialmente a ver si el COVID 19 hace justicia, con algunos personajes.",
         "['por', 'qué', 'no', 'a', 'el', 'con', 'algunos']",
         "mejor seleccionar presencialmente ver si covid 19 hace justicia personajes"
        ],
        [
         "1",
         "Italia registra un aumento en las muertes por covid-19 en la última jornada y 321 nuevos infectados",
         "['un', 'en', 'la', 'por', 'en', 'la', 'y']",
         "italia registra aumento muertes covid 19 última jornada 321 nuevos infectados"
        ],
        [
         "2",
         "Borrell saluda acuerdo entre gobierno y oposición para combatir el Covid-19 en Venezuela",
         "['entre', 'y', 'para', 'el', 'en']",
         "borrell saluda acuerdo gobierno oposición combatir covid 19 venezuela"
        ],
        [
         "3",
         "la desgracia de que bogotá la maneja la dictadora,\n \nPor sus intentos de autoritarismo \npor nuestros hermanos encarselados en el  campo de concentracion kennedy.",
         "['la', 'de', 'que', 'la', 'la', 'por', 'sus', 'de', 'por', 'nuestros', 'en', 'el', 'de']",
         "desgracia bogotá maneja dictadora intentos autoritarismo hermanos encarselados campo concentracion kennedy"
        ],
        [
         "4",
         "Gestionan regidores cajas para intubación de pacientes con COVID-19",
         "['para', 'de', 'con']",
         "gestionan regidores cajas intubación pacientes covid 19"
        ],
        [
         "5",
         "Enhorabuena a todos los sanitarios. No hay un premio más merecido que el Princesa de Asturias de la Concordia 2020, por vuestro trabajo en primera línea contra la Covid-19. GRACIAS!!",
         "['a', 'todos', 'los', 'no', 'hay', 'un', 'más', 'que', 'el', 'de', 'de', 'la', 'por', 'vuestro', 'en', 'contra', 'la']",
         "enhorabuena sanitarios premio merecido princesa asturias concordia 2020 trabajo primera línea covid 19 gracias"
        ],
        [
         "6",
         "Datos caóticos: España dobla los muertos en siete días y suben los contagios",
         "['los', 'en', 'y', 'los']",
         "datos caóticos españa dobla muertos siete días suben contagios"
        ],
        [
         "7",
         "Mineros colombianos recibirán 100.000 dólares por emergencia del Covid-19",
         "['por', 'del']",
         "mineros colombianos recibirán 100 000 dólares emergencia covid 19"
        ],
        [
         "8",
         "Gobiernos y filántropos recaudan 7,400 mde para vacuna contra COVID-19 ",
         "['y', 'para', 'contra']",
         "gobiernos filántropos recaudan 7 400 mde vacuna covid 19"
        ],
        [
         "9",
         "Miembros del Congreso de EE.UU. apoyan a Cuba ante la Covid-19",
         "['del', 'de', 'a', 'ante', 'la']",
         "miembros congreso ee uu apoyan cuba covid 19"
        ],
        [
         "10",
         "El mundo me parece más amable, más humano, menos raro. ",
         "['el', 'me', 'más', 'más']",
         "mundo parece amable humano menos raro"
        ]
       ],
       "shape": {
        "columns": 3,
        "rows": 11
       }
      },
      "text/html": [
       "<div>\n",
       "<style scoped>\n",
       "    .dataframe tbody tr th:only-of-type {\n",
       "        vertical-align: middle;\n",
       "    }\n",
       "\n",
       "    .dataframe tbody tr th {\n",
       "        vertical-align: top;\n",
       "    }\n",
       "\n",
       "    .dataframe thead th {\n",
       "        text-align: right;\n",
       "    }\n",
       "</style>\n",
       "<table border=\"1\" class=\"dataframe\">\n",
       "  <thead>\n",
       "    <tr style=\"text-align: right;\">\n",
       "      <th></th>\n",
       "      <th>Documento</th>\n",
       "      <th>Stopwords</th>\n",
       "      <th>Documento_sin_stopwords</th>\n",
       "    </tr>\n",
       "  </thead>\n",
       "  <tbody>\n",
       "    <tr>\n",
       "      <th>0</th>\n",
       "      <td>Por qué mejor no seleccionar presencialmente a...</td>\n",
       "      <td>[por, qué, no, a, el, con, algunos]</td>\n",
       "      <td>mejor seleccionar presencialmente ver si covid...</td>\n",
       "    </tr>\n",
       "    <tr>\n",
       "      <th>1</th>\n",
       "      <td>Italia registra un aumento en las muertes por ...</td>\n",
       "      <td>[un, en, la, por, en, la, y]</td>\n",
       "      <td>italia registra aumento muertes covid 19 últim...</td>\n",
       "    </tr>\n",
       "    <tr>\n",
       "      <th>2</th>\n",
       "      <td>Borrell saluda acuerdo entre gobierno y oposic...</td>\n",
       "      <td>[entre, y, para, el, en]</td>\n",
       "      <td>borrell saluda acuerdo gobierno oposición comb...</td>\n",
       "    </tr>\n",
       "    <tr>\n",
       "      <th>3</th>\n",
       "      <td>la desgracia de que bogotá la maneja la dictad...</td>\n",
       "      <td>[la, de, que, la, la, por, sus, de, por, nuest...</td>\n",
       "      <td>desgracia bogotá maneja dictadora intentos aut...</td>\n",
       "    </tr>\n",
       "    <tr>\n",
       "      <th>4</th>\n",
       "      <td>Gestionan regidores cajas para intubación de p...</td>\n",
       "      <td>[para, de, con]</td>\n",
       "      <td>gestionan regidores cajas intubación pacientes...</td>\n",
       "    </tr>\n",
       "    <tr>\n",
       "      <th>5</th>\n",
       "      <td>Enhorabuena a todos los sanitarios. No hay un ...</td>\n",
       "      <td>[a, todos, los, no, hay, un, más, que, el, de,...</td>\n",
       "      <td>enhorabuena sanitarios premio merecido princes...</td>\n",
       "    </tr>\n",
       "    <tr>\n",
       "      <th>6</th>\n",
       "      <td>Datos caóticos: España dobla los muertos en si...</td>\n",
       "      <td>[los, en, y, los]</td>\n",
       "      <td>datos caóticos españa dobla muertos siete días...</td>\n",
       "    </tr>\n",
       "    <tr>\n",
       "      <th>7</th>\n",
       "      <td>Mineros colombianos recibirán 100.000 dólares ...</td>\n",
       "      <td>[por, del]</td>\n",
       "      <td>mineros colombianos recibirán 100 000 dólares ...</td>\n",
       "    </tr>\n",
       "    <tr>\n",
       "      <th>8</th>\n",
       "      <td>Gobiernos y filántropos recaudan 7,400 mde par...</td>\n",
       "      <td>[y, para, contra]</td>\n",
       "      <td>gobiernos filántropos recaudan 7 400 mde vacun...</td>\n",
       "    </tr>\n",
       "    <tr>\n",
       "      <th>9</th>\n",
       "      <td>Miembros del Congreso de EE.UU. apoyan a Cuba ...</td>\n",
       "      <td>[del, de, a, ante, la]</td>\n",
       "      <td>miembros congreso ee uu apoyan cuba covid 19</td>\n",
       "    </tr>\n",
       "    <tr>\n",
       "      <th>10</th>\n",
       "      <td>El mundo me parece más amable, más humano, men...</td>\n",
       "      <td>[el, me, más, más]</td>\n",
       "      <td>mundo parece amable humano menos raro</td>\n",
       "    </tr>\n",
       "  </tbody>\n",
       "</table>\n",
       "</div>"
      ],
      "text/plain": [
       "                                            Documento  \\\n",
       "0   Por qué mejor no seleccionar presencialmente a...   \n",
       "1   Italia registra un aumento en las muertes por ...   \n",
       "2   Borrell saluda acuerdo entre gobierno y oposic...   \n",
       "3   la desgracia de que bogotá la maneja la dictad...   \n",
       "4   Gestionan regidores cajas para intubación de p...   \n",
       "5   Enhorabuena a todos los sanitarios. No hay un ...   \n",
       "6   Datos caóticos: España dobla los muertos en si...   \n",
       "7   Mineros colombianos recibirán 100.000 dólares ...   \n",
       "8   Gobiernos y filántropos recaudan 7,400 mde par...   \n",
       "9   Miembros del Congreso de EE.UU. apoyan a Cuba ...   \n",
       "10  El mundo me parece más amable, más humano, men...   \n",
       "\n",
       "                                            Stopwords  \\\n",
       "0                 [por, qué, no, a, el, con, algunos]   \n",
       "1                        [un, en, la, por, en, la, y]   \n",
       "2                            [entre, y, para, el, en]   \n",
       "3   [la, de, que, la, la, por, sus, de, por, nuest...   \n",
       "4                                     [para, de, con]   \n",
       "5   [a, todos, los, no, hay, un, más, que, el, de,...   \n",
       "6                                   [los, en, y, los]   \n",
       "7                                          [por, del]   \n",
       "8                                   [y, para, contra]   \n",
       "9                              [del, de, a, ante, la]   \n",
       "10                                 [el, me, más, más]   \n",
       "\n",
       "                              Documento_sin_stopwords  \n",
       "0   mejor seleccionar presencialmente ver si covid...  \n",
       "1   italia registra aumento muertes covid 19 últim...  \n",
       "2   borrell saluda acuerdo gobierno oposición comb...  \n",
       "3   desgracia bogotá maneja dictadora intentos aut...  \n",
       "4   gestionan regidores cajas intubación pacientes...  \n",
       "5   enhorabuena sanitarios premio merecido princes...  \n",
       "6   datos caóticos españa dobla muertos siete días...  \n",
       "7   mineros colombianos recibirán 100 000 dólares ...  \n",
       "8   gobiernos filántropos recaudan 7 400 mde vacun...  \n",
       "9        miembros congreso ee uu apoyan cuba covid 19  \n",
       "10              mundo parece amable humano menos raro  "
      ]
     },
     "execution_count": 20,
     "metadata": {},
     "output_type": "execute_result"
    }
   ],
   "source": [
    "spanish_stopwords = set(stopwords.words('spanish'))\n",
    "\n",
    "def extraer_stopwords(texto):\n",
    "    palabras = re.findall(r'\\b\\w+\\b', texto.lower())\n",
    "    return [palabra for palabra in palabras if palabra in spanish_stopwords]\n",
    "\n",
    "def limpiar_stopwords(texto):\n",
    "    palabras = re.findall(r'\\b\\w+\\b', texto.lower())\n",
    "    return ' '.join([palabra for palabra in palabras if palabra not in spanish_stopwords])\n",
    "\n",
    "df['Stopwords'] = df['Documento'].apply(extraer_stopwords)\n",
    "df['Documento_sin_stopwords'] = df['Documento'].apply(limpiar_stopwords)\n",
    "df[['Documento', 'Stopwords', 'Documento_sin_stopwords']]"
   ]
  },
  {
   "cell_type": "code",
   "execution_count": null,
   "id": "4401b3fc",
   "metadata": {},
   "outputs": [
    {
     "name": "stdout",
     "output_type": "stream",
     "text": [
      "                                            Documento  \\\n",
      "0   Por qué mejor no seleccionar presencialmente a...   \n",
      "1   Italia registra un aumento en las muertes por ...   \n",
      "2   Borrell saluda acuerdo entre gobierno y oposic...   \n",
      "3   la desgracia de que bogotá la maneja la dictad...   \n",
      "4   Gestionan regidores cajas para intubación de p...   \n",
      "5   Enhorabuena a todos los sanitarios. No hay un ...   \n",
      "6   Datos caóticos: España dobla los muertos en si...   \n",
      "7   Mineros colombianos recibirán 100.000 dólares ...   \n",
      "8   Gobiernos y filántropos recaudan 7,400 mde par...   \n",
      "9   Miembros del Congreso de EE.UU. apoyan a Cuba ...   \n",
      "10  El mundo me parece más amable, más humano, men...   \n",
      "\n",
      "                                            Stopwords  \\\n",
      "0                 [por, qué, no, a, el, con, algunos]   \n",
      "1                       [un, en, las, por, en, la, y]   \n",
      "2                            [entre, y, para, el, en]   \n",
      "3   [la, de, que, la, la, por, sus, de, por, nuest...   \n",
      "4                                     [para, de, con]   \n",
      "5   [a, todos, los, no, hay, un, más, que, el, de,...   \n",
      "6                                   [los, en, y, los]   \n",
      "7                                          [por, del]   \n",
      "8                                   [y, para, contra]   \n",
      "9                              [del, de, a, ante, la]   \n",
      "10                                 [el, me, más, más]   \n",
      "\n",
      "                              Documento_sin_stopwords  \n",
      "0   mejor seleccionar presencialmente ver si covid...  \n",
      "1   italia registra aumento muertes covid 19 últim...  \n",
      "2   borrell saluda acuerdo gobierno oposición comb...  \n",
      "3   desgracia bogotá maneja dictadora intentos aut...  \n",
      "4   gestionan regidores cajas intubación pacientes...  \n",
      "5   enhorabuena sanitarios premio merecido princes...  \n",
      "6   datos caóticos españa dobla muertos siete días...  \n",
      "7   mineros colombianos recibirán 100 000 dólares ...  \n",
      "8   gobiernos filántropos recaudan 7 400 mde vacun...  \n",
      "9        miembros congreso ee uu apoyan cuba covid 19  \n",
      "10              mundo parece amable humano menos raro  \n"
     ]
    }
   ],
   "source": [
    "print(df[['Documento', 'Stopwords', 'Documento_sin_stopwords']])"
   ]
  }
 ],
 "metadata": {
  "kernelspec": {
   "display_name": "Python 3",
   "language": "python",
   "name": "python3"
  },
  "language_info": {
   "codemirror_mode": {
    "name": "ipython",
    "version": 3
   },
   "file_extension": ".py",
   "mimetype": "text/x-python",
   "name": "python",
   "nbconvert_exporter": "python",
   "pygments_lexer": "ipython3",
   "version": "3.11.9"
  }
 },
 "nbformat": 4,
 "nbformat_minor": 5
}
