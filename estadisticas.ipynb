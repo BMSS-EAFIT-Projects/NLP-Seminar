{
 "cells": [
  {
   "cell_type": "code",
   "execution_count": 12,
   "id": "9295b009",
   "metadata": {},
   "outputs": [
    {
     "name": "stderr",
     "output_type": "stream",
     "text": [
      "[nltk_data] Downloading package stopwords to\n",
      "[nltk_data]     C:\\Users\\afpue\\AppData\\Roaming\\nltk_data...\n",
      "[nltk_data]   Package stopwords is already up-to-date!\n"
     ]
    }
   ],
   "source": [
    "import pandas as pd\n",
    "import re\n",
    "from nltk.corpus import stopwords\n",
    "import nltk\n",
    "nltk.download('stopwords')\n",
    "import spacy"
   ]
  },
  {
   "cell_type": "code",
   "execution_count": 13,
   "id": "74ce2372",
   "metadata": {},
   "outputs": [],
   "source": [
    "archivo = r\"C:\\Users\\afpue\\Documents\\GitHub\\NLP-Seminar\\publicaciones\\binaria.xlsx\"\n",
    "df = pd.read_excel(archivo)\n",
    "\n",
    "def limpiar(texto):\n",
    "    texto = texto.lower()\n",
    "    return re.findall(r'\\b\\w+\\b', texto)\n",
    "\n",
    "docs = df['Documento'].apply(limpiar).tolist()\n",
    "clases = df['Clase'].tolist()"
   ]
  },
  {
   "cell_type": "code",
   "execution_count": 14,
   "id": "f0bda65a",
   "metadata": {},
   "outputs": [
    {
     "data": {
      "application/vnd.microsoft.datawrangler.viewer.v0+json": {
       "columns": [
        {
         "name": "index",
         "rawType": "int64",
         "type": "integer"
        },
        {
         "name": "Documento",
         "rawType": "object",
         "type": "string"
        },
        {
         "name": "Clase",
         "rawType": "object",
         "type": "string"
        }
       ],
       "ref": "13af0733-a1b8-44b9-ae3a-5e443d1c6285",
       "rows": [
        [
         "0",
         "Por qué mejor no seleccionar presencialmente a ver si el COVID 19 hace justicia, con algunos personajes.",
         "Negativo"
        ],
        [
         "1",
         "Italia registra un aumento en las muertes por covid-19 en la última jornada y 321 nuevos infectados",
         "Negativo"
        ],
        [
         "2",
         "Borrell saluda acuerdo entre gobierno y oposición para combatir el Covid-19 en Venezuela",
         "Positivo"
        ],
        [
         "3",
         "la desgracia de que bogotá la maneja la dictadora,\n \nPor sus intentos de autoritarismo \npor nuestros hermanos encarselados en el  campo de concentracion kennedy.",
         "Negativo"
        ],
        [
         "4",
         "Gestionan regidores cajas para intubación de pacientes con COVID-19",
         "Positivo"
        ],
        [
         "5",
         "Enhorabuena a todos los sanitarios. No hay un premio más merecido que el Princesa de Asturias de la Concordia 2020, por vuestro trabajo en primera línea contra la Covid-19. GRACIAS!!",
         "Positivo"
        ],
        [
         "6",
         "Datos caóticos: España dobla los muertos en siete días y suben los contagios",
         "Negativo"
        ],
        [
         "7",
         "Mineros colombianos recibirán 100.000 dólares por emergencia del Covid-19",
         "Positivo"
        ],
        [
         "8",
         "Gobiernos y filántropos recaudan 7,400 mde para vacuna contra COVID-19 ",
         "Positivo"
        ],
        [
         "9",
         "Miembros del Congreso de EE.UU. apoyan a Cuba ante la Covid-19",
         "Positivo"
        ],
        [
         "10",
         "El mundo me parece más amable, más humano, menos raro. ",
         "Positivo"
        ]
       ],
       "shape": {
        "columns": 2,
        "rows": 11
       }
      },
      "text/html": [
       "<div>\n",
       "<style scoped>\n",
       "    .dataframe tbody tr th:only-of-type {\n",
       "        vertical-align: middle;\n",
       "    }\n",
       "\n",
       "    .dataframe tbody tr th {\n",
       "        vertical-align: top;\n",
       "    }\n",
       "\n",
       "    .dataframe thead th {\n",
       "        text-align: right;\n",
       "    }\n",
       "</style>\n",
       "<table border=\"1\" class=\"dataframe\">\n",
       "  <thead>\n",
       "    <tr style=\"text-align: right;\">\n",
       "      <th></th>\n",
       "      <th>Documento</th>\n",
       "      <th>Clase</th>\n",
       "    </tr>\n",
       "  </thead>\n",
       "  <tbody>\n",
       "    <tr>\n",
       "      <th>0</th>\n",
       "      <td>Por qué mejor no seleccionar presencialmente a...</td>\n",
       "      <td>Negativo</td>\n",
       "    </tr>\n",
       "    <tr>\n",
       "      <th>1</th>\n",
       "      <td>Italia registra un aumento en las muertes por ...</td>\n",
       "      <td>Negativo</td>\n",
       "    </tr>\n",
       "    <tr>\n",
       "      <th>2</th>\n",
       "      <td>Borrell saluda acuerdo entre gobierno y oposic...</td>\n",
       "      <td>Positivo</td>\n",
       "    </tr>\n",
       "    <tr>\n",
       "      <th>3</th>\n",
       "      <td>la desgracia de que bogotá la maneja la dictad...</td>\n",
       "      <td>Negativo</td>\n",
       "    </tr>\n",
       "    <tr>\n",
       "      <th>4</th>\n",
       "      <td>Gestionan regidores cajas para intubación de p...</td>\n",
       "      <td>Positivo</td>\n",
       "    </tr>\n",
       "    <tr>\n",
       "      <th>5</th>\n",
       "      <td>Enhorabuena a todos los sanitarios. No hay un ...</td>\n",
       "      <td>Positivo</td>\n",
       "    </tr>\n",
       "    <tr>\n",
       "      <th>6</th>\n",
       "      <td>Datos caóticos: España dobla los muertos en si...</td>\n",
       "      <td>Negativo</td>\n",
       "    </tr>\n",
       "    <tr>\n",
       "      <th>7</th>\n",
       "      <td>Mineros colombianos recibirán 100.000 dólares ...</td>\n",
       "      <td>Positivo</td>\n",
       "    </tr>\n",
       "    <tr>\n",
       "      <th>8</th>\n",
       "      <td>Gobiernos y filántropos recaudan 7,400 mde par...</td>\n",
       "      <td>Positivo</td>\n",
       "    </tr>\n",
       "    <tr>\n",
       "      <th>9</th>\n",
       "      <td>Miembros del Congreso de EE.UU. apoyan a Cuba ...</td>\n",
       "      <td>Positivo</td>\n",
       "    </tr>\n",
       "    <tr>\n",
       "      <th>10</th>\n",
       "      <td>El mundo me parece más amable, más humano, men...</td>\n",
       "      <td>Positivo</td>\n",
       "    </tr>\n",
       "  </tbody>\n",
       "</table>\n",
       "</div>"
      ],
      "text/plain": [
       "                                            Documento     Clase\n",
       "0   Por qué mejor no seleccionar presencialmente a...  Negativo\n",
       "1   Italia registra un aumento en las muertes por ...  Negativo\n",
       "2   Borrell saluda acuerdo entre gobierno y oposic...  Positivo\n",
       "3   la desgracia de que bogotá la maneja la dictad...  Negativo\n",
       "4   Gestionan regidores cajas para intubación de p...  Positivo\n",
       "5   Enhorabuena a todos los sanitarios. No hay un ...  Positivo\n",
       "6   Datos caóticos: España dobla los muertos en si...  Negativo\n",
       "7   Mineros colombianos recibirán 100.000 dólares ...  Positivo\n",
       "8   Gobiernos y filántropos recaudan 7,400 mde par...  Positivo\n",
       "9   Miembros del Congreso de EE.UU. apoyan a Cuba ...  Positivo\n",
       "10  El mundo me parece más amable, más humano, men...  Positivo"
      ]
     },
     "execution_count": 14,
     "metadata": {},
     "output_type": "execute_result"
    }
   ],
   "source": [
    "df"
   ]
  },
  {
   "cell_type": "code",
   "execution_count": 15,
   "id": "5394db15",
   "metadata": {},
   "outputs": [
    {
     "data": {
      "application/vnd.microsoft.datawrangler.viewer.v0+json": {
       "columns": [
        {
         "name": "index",
         "rawType": "int64",
         "type": "integer"
        },
        {
         "name": "Documento",
         "rawType": "object",
         "type": "string"
        },
        {
         "name": "Cantidad_palabras",
         "rawType": "int64",
         "type": "integer"
        }
       ],
       "ref": "eb5cb172-8f7c-439d-9453-45e72a231be8",
       "rows": [
        [
         "0",
         "Por qué mejor no seleccionar presencialmente a ver si el COVID 19 hace justicia, con algunos personajes.",
         "17"
        ],
        [
         "1",
         "Italia registra un aumento en las muertes por covid-19 en la última jornada y 321 nuevos infectados",
         "18"
        ],
        [
         "2",
         "Borrell saluda acuerdo entre gobierno y oposición para combatir el Covid-19 en Venezuela",
         "14"
        ],
        [
         "3",
         "la desgracia de que bogotá la maneja la dictadora,\n \nPor sus intentos de autoritarismo \npor nuestros hermanos encarselados en el  campo de concentracion kennedy.",
         "24"
        ],
        [
         "4",
         "Gestionan regidores cajas para intubación de pacientes con COVID-19",
         "10"
        ],
        [
         "5",
         "Enhorabuena a todos los sanitarios. No hay un premio más merecido que el Princesa de Asturias de la Concordia 2020, por vuestro trabajo en primera línea contra la Covid-19. GRACIAS!!",
         "31"
        ],
        [
         "6",
         "Datos caóticos: España dobla los muertos en siete días y suben los contagios",
         "13"
        ],
        [
         "7",
         "Mineros colombianos recibirán 100.000 dólares por emergencia del Covid-19",
         "11"
        ],
        [
         "8",
         "Gobiernos y filántropos recaudan 7,400 mde para vacuna contra COVID-19 ",
         "12"
        ],
        [
         "9",
         "Miembros del Congreso de EE.UU. apoyan a Cuba ante la Covid-19",
         "13"
        ],
        [
         "10",
         "El mundo me parece más amable, más humano, menos raro. ",
         "10"
        ]
       ],
       "shape": {
        "columns": 2,
        "rows": 11
       }
      },
      "text/html": [
       "<div>\n",
       "<style scoped>\n",
       "    .dataframe tbody tr th:only-of-type {\n",
       "        vertical-align: middle;\n",
       "    }\n",
       "\n",
       "    .dataframe tbody tr th {\n",
       "        vertical-align: top;\n",
       "    }\n",
       "\n",
       "    .dataframe thead th {\n",
       "        text-align: right;\n",
       "    }\n",
       "</style>\n",
       "<table border=\"1\" class=\"dataframe\">\n",
       "  <thead>\n",
       "    <tr style=\"text-align: right;\">\n",
       "      <th></th>\n",
       "      <th>Documento</th>\n",
       "      <th>Cantidad_palabras</th>\n",
       "    </tr>\n",
       "  </thead>\n",
       "  <tbody>\n",
       "    <tr>\n",
       "      <th>0</th>\n",
       "      <td>Por qué mejor no seleccionar presencialmente a...</td>\n",
       "      <td>17</td>\n",
       "    </tr>\n",
       "    <tr>\n",
       "      <th>1</th>\n",
       "      <td>Italia registra un aumento en las muertes por ...</td>\n",
       "      <td>18</td>\n",
       "    </tr>\n",
       "    <tr>\n",
       "      <th>2</th>\n",
       "      <td>Borrell saluda acuerdo entre gobierno y oposic...</td>\n",
       "      <td>14</td>\n",
       "    </tr>\n",
       "    <tr>\n",
       "      <th>3</th>\n",
       "      <td>la desgracia de que bogotá la maneja la dictad...</td>\n",
       "      <td>24</td>\n",
       "    </tr>\n",
       "    <tr>\n",
       "      <th>4</th>\n",
       "      <td>Gestionan regidores cajas para intubación de p...</td>\n",
       "      <td>10</td>\n",
       "    </tr>\n",
       "    <tr>\n",
       "      <th>5</th>\n",
       "      <td>Enhorabuena a todos los sanitarios. No hay un ...</td>\n",
       "      <td>31</td>\n",
       "    </tr>\n",
       "    <tr>\n",
       "      <th>6</th>\n",
       "      <td>Datos caóticos: España dobla los muertos en si...</td>\n",
       "      <td>13</td>\n",
       "    </tr>\n",
       "    <tr>\n",
       "      <th>7</th>\n",
       "      <td>Mineros colombianos recibirán 100.000 dólares ...</td>\n",
       "      <td>11</td>\n",
       "    </tr>\n",
       "    <tr>\n",
       "      <th>8</th>\n",
       "      <td>Gobiernos y filántropos recaudan 7,400 mde par...</td>\n",
       "      <td>12</td>\n",
       "    </tr>\n",
       "    <tr>\n",
       "      <th>9</th>\n",
       "      <td>Miembros del Congreso de EE.UU. apoyan a Cuba ...</td>\n",
       "      <td>13</td>\n",
       "    </tr>\n",
       "    <tr>\n",
       "      <th>10</th>\n",
       "      <td>El mundo me parece más amable, más humano, men...</td>\n",
       "      <td>10</td>\n",
       "    </tr>\n",
       "  </tbody>\n",
       "</table>\n",
       "</div>"
      ],
      "text/plain": [
       "                                            Documento  Cantidad_palabras\n",
       "0   Por qué mejor no seleccionar presencialmente a...                 17\n",
       "1   Italia registra un aumento en las muertes por ...                 18\n",
       "2   Borrell saluda acuerdo entre gobierno y oposic...                 14\n",
       "3   la desgracia de que bogotá la maneja la dictad...                 24\n",
       "4   Gestionan regidores cajas para intubación de p...                 10\n",
       "5   Enhorabuena a todos los sanitarios. No hay un ...                 31\n",
       "6   Datos caóticos: España dobla los muertos en si...                 13\n",
       "7   Mineros colombianos recibirán 100.000 dólares ...                 11\n",
       "8   Gobiernos y filántropos recaudan 7,400 mde par...                 12\n",
       "9   Miembros del Congreso de EE.UU. apoyan a Cuba ...                 13\n",
       "10  El mundo me parece más amable, más humano, men...                 10"
      ]
     },
     "execution_count": 15,
     "metadata": {},
     "output_type": "execute_result"
    }
   ],
   "source": [
    "df['Cantidad_palabras'] = df['Documento'].apply(lambda x: len(re.findall(r'\\b\\w+\\b', x)))\n",
    "df[['Documento', 'Cantidad_palabras']]"
   ]
  },
  {
   "cell_type": "code",
   "execution_count": 16,
   "id": "0258e7d9",
   "metadata": {},
   "outputs": [
    {
     "data": {
      "text/plain": [
       "np.float64(15.727272727272727)"
      ]
     },
     "execution_count": 16,
     "metadata": {},
     "output_type": "execute_result"
    }
   ],
   "source": [
    "promedio_palabras = df['Cantidad_palabras'].mean()\n",
    "promedio_palabras"
   ]
  },
  {
   "cell_type": "code",
   "execution_count": 17,
   "id": "c24c4bd1",
   "metadata": {},
   "outputs": [
    {
     "data": {
      "application/vnd.microsoft.datawrangler.viewer.v0+json": {
       "columns": [
        {
         "name": "index",
         "rawType": "int64",
         "type": "integer"
        },
        {
         "name": "Documento",
         "rawType": "object",
         "type": "string"
        },
        {
         "name": "Documento_Lematizado",
         "rawType": "object",
         "type": "string"
        }
       ],
       "ref": "43b8f2de-cd03-4530-a7c6-230a780b8001",
       "rows": [
        [
         "0",
         "Por qué mejor no seleccionar presencialmente a ver si el COVID 19 hace justicia, con algunos personajes.",
         "por qué mejor no seleccionar presencialmente a ver si el COVID 19 hacer justicia , con alguno personaje ."
        ],
        [
         "1",
         "Italia registra un aumento en las muertes por covid-19 en la última jornada y 321 nuevos infectados",
         "Italia registrar uno aumento en el muerte por covid-19 en el último jornada y 321 nuevo infectado"
        ],
        [
         "2",
         "Borrell saluda acuerdo entre gobierno y oposición para combatir el Covid-19 en Venezuela",
         "Borrell saludar acuerdo entre gobierno y oposición para combatir el Covid-19 en Venezuela"
        ],
        [
         "3",
         "la desgracia de que bogotá la maneja la dictadora,\n \nPor sus intentos de autoritarismo \npor nuestros hermanos encarselados en el  campo de concentracion kennedy.",
         "el desgracia de que bogotá el maneja el dictadora , \n \n Por su intento de autoritarismo \n por nuestro hermano encarselado en el   campo de concentracion kennedy ."
        ],
        [
         "4",
         "Gestionan regidores cajas para intubación de pacientes con COVID-19",
         "gestionar regidor caja para intubación de paciente con COVID-19"
        ],
        [
         "5",
         "Enhorabuena a todos los sanitarios. No hay un premio más merecido que el Princesa de Asturias de la Concordia 2020, por vuestro trabajo en primera línea contra la Covid-19. GRACIAS!!",
         "Enhorabuena a todo el sanitario . no haber uno premio más merecido que el Princesa de Asturias de el Concordia 2020 , por vuestro trabajo en primero línea contra el Covid-19 . gracias ! !"
        ],
        [
         "6",
         "Datos caóticos: España dobla los muertos en siete días y suben los contagios",
         "dato caótico : España dobla el muerto en siete día y subir el contagio"
        ],
        [
         "7",
         "Mineros colombianos recibirán 100.000 dólares por emergencia del Covid-19",
         "minero colombiano recibir 100000 dólares por emergencia del Covid-19"
        ],
        [
         "8",
         "Gobiernos y filántropos recaudan 7,400 mde para vacuna contra COVID-19 ",
         "gobierno y filántropo recaudar 7.400 mde para vacuna contra COVID-19"
        ],
        [
         "9",
         "Miembros del Congreso de EE.UU. apoyan a Cuba ante la Covid-19",
         "miembro del Congreso de EE.UU. apoyar a Cuba ante el Covid-19"
        ],
        [
         "10",
         "El mundo me parece más amable, más humano, menos raro. ",
         "el mundo yo parecer más amable , más humano , menos raro ."
        ]
       ],
       "shape": {
        "columns": 2,
        "rows": 11
       }
      },
      "text/html": [
       "<div>\n",
       "<style scoped>\n",
       "    .dataframe tbody tr th:only-of-type {\n",
       "        vertical-align: middle;\n",
       "    }\n",
       "\n",
       "    .dataframe tbody tr th {\n",
       "        vertical-align: top;\n",
       "    }\n",
       "\n",
       "    .dataframe thead th {\n",
       "        text-align: right;\n",
       "    }\n",
       "</style>\n",
       "<table border=\"1\" class=\"dataframe\">\n",
       "  <thead>\n",
       "    <tr style=\"text-align: right;\">\n",
       "      <th></th>\n",
       "      <th>Documento</th>\n",
       "      <th>Documento_Lematizado</th>\n",
       "    </tr>\n",
       "  </thead>\n",
       "  <tbody>\n",
       "    <tr>\n",
       "      <th>0</th>\n",
       "      <td>Por qué mejor no seleccionar presencialmente a...</td>\n",
       "      <td>por qué mejor no seleccionar presencialmente a...</td>\n",
       "    </tr>\n",
       "    <tr>\n",
       "      <th>1</th>\n",
       "      <td>Italia registra un aumento en las muertes por ...</td>\n",
       "      <td>Italia registrar uno aumento en el muerte por ...</td>\n",
       "    </tr>\n",
       "    <tr>\n",
       "      <th>2</th>\n",
       "      <td>Borrell saluda acuerdo entre gobierno y oposic...</td>\n",
       "      <td>Borrell saludar acuerdo entre gobierno y oposi...</td>\n",
       "    </tr>\n",
       "    <tr>\n",
       "      <th>3</th>\n",
       "      <td>la desgracia de que bogotá la maneja la dictad...</td>\n",
       "      <td>el desgracia de que bogotá el maneja el dictad...</td>\n",
       "    </tr>\n",
       "    <tr>\n",
       "      <th>4</th>\n",
       "      <td>Gestionan regidores cajas para intubación de p...</td>\n",
       "      <td>gestionar regidor caja para intubación de paci...</td>\n",
       "    </tr>\n",
       "    <tr>\n",
       "      <th>5</th>\n",
       "      <td>Enhorabuena a todos los sanitarios. No hay un ...</td>\n",
       "      <td>Enhorabuena a todo el sanitario . no haber uno...</td>\n",
       "    </tr>\n",
       "    <tr>\n",
       "      <th>6</th>\n",
       "      <td>Datos caóticos: España dobla los muertos en si...</td>\n",
       "      <td>dato caótico : España dobla el muerto en siete...</td>\n",
       "    </tr>\n",
       "    <tr>\n",
       "      <th>7</th>\n",
       "      <td>Mineros colombianos recibirán 100.000 dólares ...</td>\n",
       "      <td>minero colombiano recibir 100000 dólares por e...</td>\n",
       "    </tr>\n",
       "    <tr>\n",
       "      <th>8</th>\n",
       "      <td>Gobiernos y filántropos recaudan 7,400 mde par...</td>\n",
       "      <td>gobierno y filántropo recaudar 7.400 mde para ...</td>\n",
       "    </tr>\n",
       "    <tr>\n",
       "      <th>9</th>\n",
       "      <td>Miembros del Congreso de EE.UU. apoyan a Cuba ...</td>\n",
       "      <td>miembro del Congreso de EE.UU. apoyar a Cuba a...</td>\n",
       "    </tr>\n",
       "    <tr>\n",
       "      <th>10</th>\n",
       "      <td>El mundo me parece más amable, más humano, men...</td>\n",
       "      <td>el mundo yo parecer más amable , más humano , ...</td>\n",
       "    </tr>\n",
       "  </tbody>\n",
       "</table>\n",
       "</div>"
      ],
      "text/plain": [
       "                                            Documento  \\\n",
       "0   Por qué mejor no seleccionar presencialmente a...   \n",
       "1   Italia registra un aumento en las muertes por ...   \n",
       "2   Borrell saluda acuerdo entre gobierno y oposic...   \n",
       "3   la desgracia de que bogotá la maneja la dictad...   \n",
       "4   Gestionan regidores cajas para intubación de p...   \n",
       "5   Enhorabuena a todos los sanitarios. No hay un ...   \n",
       "6   Datos caóticos: España dobla los muertos en si...   \n",
       "7   Mineros colombianos recibirán 100.000 dólares ...   \n",
       "8   Gobiernos y filántropos recaudan 7,400 mde par...   \n",
       "9   Miembros del Congreso de EE.UU. apoyan a Cuba ...   \n",
       "10  El mundo me parece más amable, más humano, men...   \n",
       "\n",
       "                                 Documento_Lematizado  \n",
       "0   por qué mejor no seleccionar presencialmente a...  \n",
       "1   Italia registrar uno aumento en el muerte por ...  \n",
       "2   Borrell saludar acuerdo entre gobierno y oposi...  \n",
       "3   el desgracia de que bogotá el maneja el dictad...  \n",
       "4   gestionar regidor caja para intubación de paci...  \n",
       "5   Enhorabuena a todo el sanitario . no haber uno...  \n",
       "6   dato caótico : España dobla el muerto en siete...  \n",
       "7   minero colombiano recibir 100000 dólares por e...  \n",
       "8   gobierno y filántropo recaudar 7.400 mde para ...  \n",
       "9   miembro del Congreso de EE.UU. apoyar a Cuba a...  \n",
       "10  el mundo yo parecer más amable , más humano , ...  "
      ]
     },
     "execution_count": 17,
     "metadata": {},
     "output_type": "execute_result"
    }
   ],
   "source": [
    "nlp = spacy.load('es_core_news_sm')\n",
    "\n",
    "def lematizar(texto):\n",
    "    doc = nlp(texto)\n",
    "    return ' '.join([token.lemma_ for token in doc])\n",
    "\n",
    "df['Documento_Lematizado'] = df['Documento'].apply(lematizar)\n",
    "df[['Documento', 'Documento_Lematizado']]\n"
   ]
  },
  {
   "cell_type": "code",
   "execution_count": 18,
   "id": "f0fe9372",
   "metadata": {},
   "outputs": [
    {
     "name": "stdout",
     "output_type": "stream",
     "text": [
      "                                            Documento  \\\n",
      "0   Por qué mejor no seleccionar presencialmente a...   \n",
      "1   Italia registra un aumento en las muertes por ...   \n",
      "2   Borrell saluda acuerdo entre gobierno y oposic...   \n",
      "3   la desgracia de que bogotá la maneja la dictad...   \n",
      "4   Gestionan regidores cajas para intubación de p...   \n",
      "5   Enhorabuena a todos los sanitarios. No hay un ...   \n",
      "6   Datos caóticos: España dobla los muertos en si...   \n",
      "7   Mineros colombianos recibirán 100.000 dólares ...   \n",
      "8   Gobiernos y filántropos recaudan 7,400 mde par...   \n",
      "9   Miembros del Congreso de EE.UU. apoyan a Cuba ...   \n",
      "10  El mundo me parece más amable, más humano, men...   \n",
      "\n",
      "                                 Documento_Lematizado  \n",
      "0   por qué mejor no seleccionar presencialmente a...  \n",
      "1   Italia registrar uno aumento en el muerte por ...  \n",
      "2   Borrell saludar acuerdo entre gobierno y oposi...  \n",
      "3   el desgracia de que bogotá el maneja el dictad...  \n",
      "4   gestionar regidor caja para intubación de paci...  \n",
      "5   Enhorabuena a todo el sanitario . no haber uno...  \n",
      "6   dato caótico : España dobla el muerto en siete...  \n",
      "7   minero colombiano recibir 100000 dólares por e...  \n",
      "8   gobierno y filántropo recaudar 7.400 mde para ...  \n",
      "9   miembro del Congreso de EE.UU. apoyar a Cuba a...  \n",
      "10  el mundo yo parecer más amable , más humano , ...  \n"
     ]
    }
   ],
   "source": [
    "print(df[['Documento', 'Documento_Lematizado']])"
   ]
  },
  {
   "cell_type": "code",
   "execution_count": 19,
   "id": "57a29d5e",
   "metadata": {},
   "outputs": [
    {
     "data": {
      "application/vnd.microsoft.datawrangler.viewer.v0+json": {
       "columns": [
        {
         "name": "index",
         "rawType": "int64",
         "type": "integer"
        },
        {
         "name": "Documento",
         "rawType": "object",
         "type": "string"
        },
        {
         "name": "Stopwords",
         "rawType": "object",
         "type": "unknown"
        },
        {
         "name": "Documento_sin_stopwords",
         "rawType": "object",
         "type": "string"
        }
       ],
       "ref": "df178e04-5c63-401c-aa07-d02da278c203",
       "rows": [
        [
         "0",
         "Por qué mejor no seleccionar presencialmente a ver si el COVID 19 hace justicia, con algunos personajes.",
         "['por', 'qué', 'no', 'a', 'el', 'con']",
         "mejor seleccionar presencialmente ver si covid 19 hacer justicia alguno personaje"
        ],
        [
         "1",
         "Italia registra un aumento en las muertes por covid-19 en la última jornada y 321 nuevos infectados",
         "['uno', 'en', 'el', 'por', 'en', 'el', 'y']",
         "italia registrar aumento muerte covid 19 último jornada 321 nuevo infectado"
        ],
        [
         "2",
         "Borrell saluda acuerdo entre gobierno y oposición para combatir el Covid-19 en Venezuela",
         "['entre', 'y', 'para', 'el', 'en']",
         "borrell saludar acuerdo gobierno oposición combatir covid 19 venezuela"
        ],
        [
         "3",
         "la desgracia de que bogotá la maneja la dictadora,\n \nPor sus intentos de autoritarismo \npor nuestros hermanos encarselados en el  campo de concentracion kennedy.",
         "['el', 'de', 'que', 'el', 'el', 'por', 'su', 'de', 'por', 'nuestro', 'en', 'el', 'de']",
         "desgracia bogotá maneja dictadora intento autoritarismo hermano encarselado campo concentracion kennedy"
        ],
        [
         "4",
         "Gestionan regidores cajas para intubación de pacientes con COVID-19",
         "['para', 'de', 'con']",
         "gestionar regidor caja intubación paciente covid 19"
        ],
        [
         "5",
         "Enhorabuena a todos los sanitarios. No hay un premio más merecido que el Princesa de Asturias de la Concordia 2020, por vuestro trabajo en primera línea contra la Covid-19. GRACIAS!!",
         "['a', 'todo', 'el', 'no', 'uno', 'más', 'que', 'el', 'de', 'de', 'el', 'por', 'vuestro', 'en', 'contra', 'el']",
         "enhorabuena sanitario haber premio merecido princesa asturias concordia 2020 trabajo primero línea covid 19 gracias"
        ],
        [
         "6",
         "Datos caóticos: España dobla los muertos en siete días y suben los contagios",
         "['el', 'en', 'y', 'el']",
         "dato caótico españa dobla muerto siete día subir contagio"
        ],
        [
         "7",
         "Mineros colombianos recibirán 100.000 dólares por emergencia del Covid-19",
         "['por', 'del']",
         "minero colombiano recibir 100000 dólares emergencia covid 19"
        ],
        [
         "8",
         "Gobiernos y filántropos recaudan 7,400 mde para vacuna contra COVID-19 ",
         "['y', 'para', 'contra']",
         "gobierno filántropo recaudar 7 400 mde vacuna covid 19"
        ],
        [
         "9",
         "Miembros del Congreso de EE.UU. apoyan a Cuba ante la Covid-19",
         "['del', 'de', 'a', 'ante', 'el']",
         "miembro congreso ee uu apoyar cuba covid 19"
        ],
        [
         "10",
         "El mundo me parece más amable, más humano, menos raro. ",
         "['el', 'yo', 'más', 'más']",
         "mundo parecer amable humano menos raro"
        ]
       ],
       "shape": {
        "columns": 3,
        "rows": 11
       }
      },
      "text/html": [
       "<div>\n",
       "<style scoped>\n",
       "    .dataframe tbody tr th:only-of-type {\n",
       "        vertical-align: middle;\n",
       "    }\n",
       "\n",
       "    .dataframe tbody tr th {\n",
       "        vertical-align: top;\n",
       "    }\n",
       "\n",
       "    .dataframe thead th {\n",
       "        text-align: right;\n",
       "    }\n",
       "</style>\n",
       "<table border=\"1\" class=\"dataframe\">\n",
       "  <thead>\n",
       "    <tr style=\"text-align: right;\">\n",
       "      <th></th>\n",
       "      <th>Documento</th>\n",
       "      <th>Stopwords</th>\n",
       "      <th>Documento_sin_stopwords</th>\n",
       "    </tr>\n",
       "  </thead>\n",
       "  <tbody>\n",
       "    <tr>\n",
       "      <th>0</th>\n",
       "      <td>Por qué mejor no seleccionar presencialmente a...</td>\n",
       "      <td>[por, qué, no, a, el, con]</td>\n",
       "      <td>mejor seleccionar presencialmente ver si covid...</td>\n",
       "    </tr>\n",
       "    <tr>\n",
       "      <th>1</th>\n",
       "      <td>Italia registra un aumento en las muertes por ...</td>\n",
       "      <td>[uno, en, el, por, en, el, y]</td>\n",
       "      <td>italia registrar aumento muerte covid 19 últim...</td>\n",
       "    </tr>\n",
       "    <tr>\n",
       "      <th>2</th>\n",
       "      <td>Borrell saluda acuerdo entre gobierno y oposic...</td>\n",
       "      <td>[entre, y, para, el, en]</td>\n",
       "      <td>borrell saludar acuerdo gobierno oposición com...</td>\n",
       "    </tr>\n",
       "    <tr>\n",
       "      <th>3</th>\n",
       "      <td>la desgracia de que bogotá la maneja la dictad...</td>\n",
       "      <td>[el, de, que, el, el, por, su, de, por, nuestr...</td>\n",
       "      <td>desgracia bogotá maneja dictadora intento auto...</td>\n",
       "    </tr>\n",
       "    <tr>\n",
       "      <th>4</th>\n",
       "      <td>Gestionan regidores cajas para intubación de p...</td>\n",
       "      <td>[para, de, con]</td>\n",
       "      <td>gestionar regidor caja intubación paciente cov...</td>\n",
       "    </tr>\n",
       "    <tr>\n",
       "      <th>5</th>\n",
       "      <td>Enhorabuena a todos los sanitarios. No hay un ...</td>\n",
       "      <td>[a, todo, el, no, uno, más, que, el, de, de, e...</td>\n",
       "      <td>enhorabuena sanitario haber premio merecido pr...</td>\n",
       "    </tr>\n",
       "    <tr>\n",
       "      <th>6</th>\n",
       "      <td>Datos caóticos: España dobla los muertos en si...</td>\n",
       "      <td>[el, en, y, el]</td>\n",
       "      <td>dato caótico españa dobla muerto siete día sub...</td>\n",
       "    </tr>\n",
       "    <tr>\n",
       "      <th>7</th>\n",
       "      <td>Mineros colombianos recibirán 100.000 dólares ...</td>\n",
       "      <td>[por, del]</td>\n",
       "      <td>minero colombiano recibir 100000 dólares emerg...</td>\n",
       "    </tr>\n",
       "    <tr>\n",
       "      <th>8</th>\n",
       "      <td>Gobiernos y filántropos recaudan 7,400 mde par...</td>\n",
       "      <td>[y, para, contra]</td>\n",
       "      <td>gobierno filántropo recaudar 7 400 mde vacuna ...</td>\n",
       "    </tr>\n",
       "    <tr>\n",
       "      <th>9</th>\n",
       "      <td>Miembros del Congreso de EE.UU. apoyan a Cuba ...</td>\n",
       "      <td>[del, de, a, ante, el]</td>\n",
       "      <td>miembro congreso ee uu apoyar cuba covid 19</td>\n",
       "    </tr>\n",
       "    <tr>\n",
       "      <th>10</th>\n",
       "      <td>El mundo me parece más amable, más humano, men...</td>\n",
       "      <td>[el, yo, más, más]</td>\n",
       "      <td>mundo parecer amable humano menos raro</td>\n",
       "    </tr>\n",
       "  </tbody>\n",
       "</table>\n",
       "</div>"
      ],
      "text/plain": [
       "                                            Documento  \\\n",
       "0   Por qué mejor no seleccionar presencialmente a...   \n",
       "1   Italia registra un aumento en las muertes por ...   \n",
       "2   Borrell saluda acuerdo entre gobierno y oposic...   \n",
       "3   la desgracia de que bogotá la maneja la dictad...   \n",
       "4   Gestionan regidores cajas para intubación de p...   \n",
       "5   Enhorabuena a todos los sanitarios. No hay un ...   \n",
       "6   Datos caóticos: España dobla los muertos en si...   \n",
       "7   Mineros colombianos recibirán 100.000 dólares ...   \n",
       "8   Gobiernos y filántropos recaudan 7,400 mde par...   \n",
       "9   Miembros del Congreso de EE.UU. apoyan a Cuba ...   \n",
       "10  El mundo me parece más amable, más humano, men...   \n",
       "\n",
       "                                            Stopwords  \\\n",
       "0                          [por, qué, no, a, el, con]   \n",
       "1                       [uno, en, el, por, en, el, y]   \n",
       "2                            [entre, y, para, el, en]   \n",
       "3   [el, de, que, el, el, por, su, de, por, nuestr...   \n",
       "4                                     [para, de, con]   \n",
       "5   [a, todo, el, no, uno, más, que, el, de, de, e...   \n",
       "6                                     [el, en, y, el]   \n",
       "7                                          [por, del]   \n",
       "8                                   [y, para, contra]   \n",
       "9                              [del, de, a, ante, el]   \n",
       "10                                 [el, yo, más, más]   \n",
       "\n",
       "                              Documento_sin_stopwords  \n",
       "0   mejor seleccionar presencialmente ver si covid...  \n",
       "1   italia registrar aumento muerte covid 19 últim...  \n",
       "2   borrell saludar acuerdo gobierno oposición com...  \n",
       "3   desgracia bogotá maneja dictadora intento auto...  \n",
       "4   gestionar regidor caja intubación paciente cov...  \n",
       "5   enhorabuena sanitario haber premio merecido pr...  \n",
       "6   dato caótico españa dobla muerto siete día sub...  \n",
       "7   minero colombiano recibir 100000 dólares emerg...  \n",
       "8   gobierno filántropo recaudar 7 400 mde vacuna ...  \n",
       "9         miembro congreso ee uu apoyar cuba covid 19  \n",
       "10             mundo parecer amable humano menos raro  "
      ]
     },
     "execution_count": 19,
     "metadata": {},
     "output_type": "execute_result"
    }
   ],
   "source": [
    "spanish_stopwords = set(stopwords.words('spanish'))\n",
    "\n",
    "def extraer_stopwords(texto):\n",
    "    palabras = re.findall(r'\\b\\w+\\b', texto.lower())\n",
    "    return [palabra for palabra in palabras if palabra in spanish_stopwords]\n",
    "\n",
    "def limpiar_stopwords(texto):\n",
    "    palabras = re.findall(r'\\b\\w+\\b', texto.lower())\n",
    "    return ' '.join([palabra for palabra in palabras if palabra not in spanish_stopwords])\n",
    "\n",
    "df['Stopwords'] = df['Documento_Lematizado'].apply(extraer_stopwords)\n",
    "df['Documento_sin_stopwords'] = df['Documento_Lematizado'].apply(limpiar_stopwords)\n",
    "df[['Documento', 'Stopwords', 'Documento_sin_stopwords']]"
   ]
  },
  {
   "cell_type": "code",
   "execution_count": 20,
   "id": "4401b3fc",
   "metadata": {},
   "outputs": [
    {
     "name": "stdout",
     "output_type": "stream",
     "text": [
      "                                            Documento  \\\n",
      "0   Por qué mejor no seleccionar presencialmente a...   \n",
      "1   Italia registra un aumento en las muertes por ...   \n",
      "2   Borrell saluda acuerdo entre gobierno y oposic...   \n",
      "3   la desgracia de que bogotá la maneja la dictad...   \n",
      "4   Gestionan regidores cajas para intubación de p...   \n",
      "5   Enhorabuena a todos los sanitarios. No hay un ...   \n",
      "6   Datos caóticos: España dobla los muertos en si...   \n",
      "7   Mineros colombianos recibirán 100.000 dólares ...   \n",
      "8   Gobiernos y filántropos recaudan 7,400 mde par...   \n",
      "9   Miembros del Congreso de EE.UU. apoyan a Cuba ...   \n",
      "10  El mundo me parece más amable, más humano, men...   \n",
      "\n",
      "                                            Stopwords  \\\n",
      "0                          [por, qué, no, a, el, con]   \n",
      "1                       [uno, en, el, por, en, el, y]   \n",
      "2                            [entre, y, para, el, en]   \n",
      "3   [el, de, que, el, el, por, su, de, por, nuestr...   \n",
      "4                                     [para, de, con]   \n",
      "5   [a, todo, el, no, uno, más, que, el, de, de, e...   \n",
      "6                                     [el, en, y, el]   \n",
      "7                                          [por, del]   \n",
      "8                                   [y, para, contra]   \n",
      "9                              [del, de, a, ante, el]   \n",
      "10                                 [el, yo, más, más]   \n",
      "\n",
      "                              Documento_sin_stopwords  \n",
      "0   mejor seleccionar presencialmente ver si covid...  \n",
      "1   italia registrar aumento muerte covid 19 últim...  \n",
      "2   borrell saludar acuerdo gobierno oposición com...  \n",
      "3   desgracia bogotá maneja dictadora intento auto...  \n",
      "4   gestionar regidor caja intubación paciente cov...  \n",
      "5   enhorabuena sanitario haber premio merecido pr...  \n",
      "6   dato caótico españa dobla muerto siete día sub...  \n",
      "7   minero colombiano recibir 100000 dólares emerg...  \n",
      "8   gobierno filántropo recaudar 7 400 mde vacuna ...  \n",
      "9         miembro congreso ee uu apoyar cuba covid 19  \n",
      "10             mundo parecer amable humano menos raro  \n"
     ]
    }
   ],
   "source": [
    "print(df[['Documento', 'Stopwords', 'Documento_sin_stopwords']])"
   ]
  },
  {
   "cell_type": "code",
   "execution_count": 21,
   "id": "6d6d15c3",
   "metadata": {},
   "outputs": [
    {
     "data": {
      "application/vnd.microsoft.datawrangler.viewer.v0+json": {
       "columns": [
        {
         "name": "index",
         "rawType": "int64",
         "type": "integer"
        },
        {
         "name": "Documento",
         "rawType": "object",
         "type": "string"
        },
        {
         "name": "Clase",
         "rawType": "object",
         "type": "string"
        },
        {
         "name": "Cantidad_palabras",
         "rawType": "int64",
         "type": "integer"
        },
        {
         "name": "Documento_Lematizado",
         "rawType": "object",
         "type": "string"
        },
        {
         "name": "Stopwords",
         "rawType": "object",
         "type": "unknown"
        },
        {
         "name": "Documento_sin_stopwords",
         "rawType": "object",
         "type": "string"
        }
       ],
       "ref": "415aa643-08b1-40c7-b17d-1bd372d67b38",
       "rows": [
        [
         "0",
         "Por qué mejor no seleccionar presencialmente a ver si el COVID 19 hace justicia, con algunos personajes.",
         "Negativo",
         "17",
         "por qué mejor no seleccionar presencialmente a ver si el COVID 19 hacer justicia , con alguno personaje .",
         "['por', 'qué', 'no', 'a', 'el', 'con']",
         "mejor seleccionar presencialmente ver si covid 19 hacer justicia alguno personaje"
        ],
        [
         "1",
         "Italia registra un aumento en las muertes por covid-19 en la última jornada y 321 nuevos infectados",
         "Negativo",
         "18",
         "Italia registrar uno aumento en el muerte por covid-19 en el último jornada y 321 nuevo infectado",
         "['uno', 'en', 'el', 'por', 'en', 'el', 'y']",
         "italia registrar aumento muerte covid 19 último jornada 321 nuevo infectado"
        ],
        [
         "2",
         "Borrell saluda acuerdo entre gobierno y oposición para combatir el Covid-19 en Venezuela",
         "Positivo",
         "14",
         "Borrell saludar acuerdo entre gobierno y oposición para combatir el Covid-19 en Venezuela",
         "['entre', 'y', 'para', 'el', 'en']",
         "borrell saludar acuerdo gobierno oposición combatir covid 19 venezuela"
        ],
        [
         "3",
         "la desgracia de que bogotá la maneja la dictadora,\n \nPor sus intentos de autoritarismo \npor nuestros hermanos encarselados en el  campo de concentracion kennedy.",
         "Negativo",
         "24",
         "el desgracia de que bogotá el maneja el dictadora , \n \n Por su intento de autoritarismo \n por nuestro hermano encarselado en el   campo de concentracion kennedy .",
         "['el', 'de', 'que', 'el', 'el', 'por', 'su', 'de', 'por', 'nuestro', 'en', 'el', 'de']",
         "desgracia bogotá maneja dictadora intento autoritarismo hermano encarselado campo concentracion kennedy"
        ],
        [
         "4",
         "Gestionan regidores cajas para intubación de pacientes con COVID-19",
         "Positivo",
         "10",
         "gestionar regidor caja para intubación de paciente con COVID-19",
         "['para', 'de', 'con']",
         "gestionar regidor caja intubación paciente covid 19"
        ],
        [
         "5",
         "Enhorabuena a todos los sanitarios. No hay un premio más merecido que el Princesa de Asturias de la Concordia 2020, por vuestro trabajo en primera línea contra la Covid-19. GRACIAS!!",
         "Positivo",
         "31",
         "Enhorabuena a todo el sanitario . no haber uno premio más merecido que el Princesa de Asturias de el Concordia 2020 , por vuestro trabajo en primero línea contra el Covid-19 . gracias ! !",
         "['a', 'todo', 'el', 'no', 'uno', 'más', 'que', 'el', 'de', 'de', 'el', 'por', 'vuestro', 'en', 'contra', 'el']",
         "enhorabuena sanitario haber premio merecido princesa asturias concordia 2020 trabajo primero línea covid 19 gracias"
        ],
        [
         "6",
         "Datos caóticos: España dobla los muertos en siete días y suben los contagios",
         "Negativo",
         "13",
         "dato caótico : España dobla el muerto en siete día y subir el contagio",
         "['el', 'en', 'y', 'el']",
         "dato caótico españa dobla muerto siete día subir contagio"
        ],
        [
         "7",
         "Mineros colombianos recibirán 100.000 dólares por emergencia del Covid-19",
         "Positivo",
         "11",
         "minero colombiano recibir 100000 dólares por emergencia del Covid-19",
         "['por', 'del']",
         "minero colombiano recibir 100000 dólares emergencia covid 19"
        ],
        [
         "8",
         "Gobiernos y filántropos recaudan 7,400 mde para vacuna contra COVID-19 ",
         "Positivo",
         "12",
         "gobierno y filántropo recaudar 7.400 mde para vacuna contra COVID-19",
         "['y', 'para', 'contra']",
         "gobierno filántropo recaudar 7 400 mde vacuna covid 19"
        ],
        [
         "9",
         "Miembros del Congreso de EE.UU. apoyan a Cuba ante la Covid-19",
         "Positivo",
         "13",
         "miembro del Congreso de EE.UU. apoyar a Cuba ante el Covid-19",
         "['del', 'de', 'a', 'ante', 'el']",
         "miembro congreso ee uu apoyar cuba covid 19"
        ],
        [
         "10",
         "El mundo me parece más amable, más humano, menos raro. ",
         "Positivo",
         "10",
         "el mundo yo parecer más amable , más humano , menos raro .",
         "['el', 'yo', 'más', 'más']",
         "mundo parecer amable humano menos raro"
        ]
       ],
       "shape": {
        "columns": 6,
        "rows": 11
       }
      },
      "text/html": [
       "<div>\n",
       "<style scoped>\n",
       "    .dataframe tbody tr th:only-of-type {\n",
       "        vertical-align: middle;\n",
       "    }\n",
       "\n",
       "    .dataframe tbody tr th {\n",
       "        vertical-align: top;\n",
       "    }\n",
       "\n",
       "    .dataframe thead th {\n",
       "        text-align: right;\n",
       "    }\n",
       "</style>\n",
       "<table border=\"1\" class=\"dataframe\">\n",
       "  <thead>\n",
       "    <tr style=\"text-align: right;\">\n",
       "      <th></th>\n",
       "      <th>Documento</th>\n",
       "      <th>Clase</th>\n",
       "      <th>Cantidad_palabras</th>\n",
       "      <th>Documento_Lematizado</th>\n",
       "      <th>Stopwords</th>\n",
       "      <th>Documento_sin_stopwords</th>\n",
       "    </tr>\n",
       "  </thead>\n",
       "  <tbody>\n",
       "    <tr>\n",
       "      <th>0</th>\n",
       "      <td>Por qué mejor no seleccionar presencialmente a...</td>\n",
       "      <td>Negativo</td>\n",
       "      <td>17</td>\n",
       "      <td>por qué mejor no seleccionar presencialmente a...</td>\n",
       "      <td>[por, qué, no, a, el, con]</td>\n",
       "      <td>mejor seleccionar presencialmente ver si covid...</td>\n",
       "    </tr>\n",
       "    <tr>\n",
       "      <th>1</th>\n",
       "      <td>Italia registra un aumento en las muertes por ...</td>\n",
       "      <td>Negativo</td>\n",
       "      <td>18</td>\n",
       "      <td>Italia registrar uno aumento en el muerte por ...</td>\n",
       "      <td>[uno, en, el, por, en, el, y]</td>\n",
       "      <td>italia registrar aumento muerte covid 19 últim...</td>\n",
       "    </tr>\n",
       "    <tr>\n",
       "      <th>2</th>\n",
       "      <td>Borrell saluda acuerdo entre gobierno y oposic...</td>\n",
       "      <td>Positivo</td>\n",
       "      <td>14</td>\n",
       "      <td>Borrell saludar acuerdo entre gobierno y oposi...</td>\n",
       "      <td>[entre, y, para, el, en]</td>\n",
       "      <td>borrell saludar acuerdo gobierno oposición com...</td>\n",
       "    </tr>\n",
       "    <tr>\n",
       "      <th>3</th>\n",
       "      <td>la desgracia de que bogotá la maneja la dictad...</td>\n",
       "      <td>Negativo</td>\n",
       "      <td>24</td>\n",
       "      <td>el desgracia de que bogotá el maneja el dictad...</td>\n",
       "      <td>[el, de, que, el, el, por, su, de, por, nuestr...</td>\n",
       "      <td>desgracia bogotá maneja dictadora intento auto...</td>\n",
       "    </tr>\n",
       "    <tr>\n",
       "      <th>4</th>\n",
       "      <td>Gestionan regidores cajas para intubación de p...</td>\n",
       "      <td>Positivo</td>\n",
       "      <td>10</td>\n",
       "      <td>gestionar regidor caja para intubación de paci...</td>\n",
       "      <td>[para, de, con]</td>\n",
       "      <td>gestionar regidor caja intubación paciente cov...</td>\n",
       "    </tr>\n",
       "    <tr>\n",
       "      <th>5</th>\n",
       "      <td>Enhorabuena a todos los sanitarios. No hay un ...</td>\n",
       "      <td>Positivo</td>\n",
       "      <td>31</td>\n",
       "      <td>Enhorabuena a todo el sanitario . no haber uno...</td>\n",
       "      <td>[a, todo, el, no, uno, más, que, el, de, de, e...</td>\n",
       "      <td>enhorabuena sanitario haber premio merecido pr...</td>\n",
       "    </tr>\n",
       "    <tr>\n",
       "      <th>6</th>\n",
       "      <td>Datos caóticos: España dobla los muertos en si...</td>\n",
       "      <td>Negativo</td>\n",
       "      <td>13</td>\n",
       "      <td>dato caótico : España dobla el muerto en siete...</td>\n",
       "      <td>[el, en, y, el]</td>\n",
       "      <td>dato caótico españa dobla muerto siete día sub...</td>\n",
       "    </tr>\n",
       "    <tr>\n",
       "      <th>7</th>\n",
       "      <td>Mineros colombianos recibirán 100.000 dólares ...</td>\n",
       "      <td>Positivo</td>\n",
       "      <td>11</td>\n",
       "      <td>minero colombiano recibir 100000 dólares por e...</td>\n",
       "      <td>[por, del]</td>\n",
       "      <td>minero colombiano recibir 100000 dólares emerg...</td>\n",
       "    </tr>\n",
       "    <tr>\n",
       "      <th>8</th>\n",
       "      <td>Gobiernos y filántropos recaudan 7,400 mde par...</td>\n",
       "      <td>Positivo</td>\n",
       "      <td>12</td>\n",
       "      <td>gobierno y filántropo recaudar 7.400 mde para ...</td>\n",
       "      <td>[y, para, contra]</td>\n",
       "      <td>gobierno filántropo recaudar 7 400 mde vacuna ...</td>\n",
       "    </tr>\n",
       "    <tr>\n",
       "      <th>9</th>\n",
       "      <td>Miembros del Congreso de EE.UU. apoyan a Cuba ...</td>\n",
       "      <td>Positivo</td>\n",
       "      <td>13</td>\n",
       "      <td>miembro del Congreso de EE.UU. apoyar a Cuba a...</td>\n",
       "      <td>[del, de, a, ante, el]</td>\n",
       "      <td>miembro congreso ee uu apoyar cuba covid 19</td>\n",
       "    </tr>\n",
       "    <tr>\n",
       "      <th>10</th>\n",
       "      <td>El mundo me parece más amable, más humano, men...</td>\n",
       "      <td>Positivo</td>\n",
       "      <td>10</td>\n",
       "      <td>el mundo yo parecer más amable , más humano , ...</td>\n",
       "      <td>[el, yo, más, más]</td>\n",
       "      <td>mundo parecer amable humano menos raro</td>\n",
       "    </tr>\n",
       "  </tbody>\n",
       "</table>\n",
       "</div>"
      ],
      "text/plain": [
       "                                            Documento     Clase  \\\n",
       "0   Por qué mejor no seleccionar presencialmente a...  Negativo   \n",
       "1   Italia registra un aumento en las muertes por ...  Negativo   \n",
       "2   Borrell saluda acuerdo entre gobierno y oposic...  Positivo   \n",
       "3   la desgracia de que bogotá la maneja la dictad...  Negativo   \n",
       "4   Gestionan regidores cajas para intubación de p...  Positivo   \n",
       "5   Enhorabuena a todos los sanitarios. No hay un ...  Positivo   \n",
       "6   Datos caóticos: España dobla los muertos en si...  Negativo   \n",
       "7   Mineros colombianos recibirán 100.000 dólares ...  Positivo   \n",
       "8   Gobiernos y filántropos recaudan 7,400 mde par...  Positivo   \n",
       "9   Miembros del Congreso de EE.UU. apoyan a Cuba ...  Positivo   \n",
       "10  El mundo me parece más amable, más humano, men...  Positivo   \n",
       "\n",
       "    Cantidad_palabras                               Documento_Lematizado  \\\n",
       "0                  17  por qué mejor no seleccionar presencialmente a...   \n",
       "1                  18  Italia registrar uno aumento en el muerte por ...   \n",
       "2                  14  Borrell saludar acuerdo entre gobierno y oposi...   \n",
       "3                  24  el desgracia de que bogotá el maneja el dictad...   \n",
       "4                  10  gestionar regidor caja para intubación de paci...   \n",
       "5                  31  Enhorabuena a todo el sanitario . no haber uno...   \n",
       "6                  13  dato caótico : España dobla el muerto en siete...   \n",
       "7                  11  minero colombiano recibir 100000 dólares por e...   \n",
       "8                  12  gobierno y filántropo recaudar 7.400 mde para ...   \n",
       "9                  13  miembro del Congreso de EE.UU. apoyar a Cuba a...   \n",
       "10                 10  el mundo yo parecer más amable , más humano , ...   \n",
       "\n",
       "                                            Stopwords  \\\n",
       "0                          [por, qué, no, a, el, con]   \n",
       "1                       [uno, en, el, por, en, el, y]   \n",
       "2                            [entre, y, para, el, en]   \n",
       "3   [el, de, que, el, el, por, su, de, por, nuestr...   \n",
       "4                                     [para, de, con]   \n",
       "5   [a, todo, el, no, uno, más, que, el, de, de, e...   \n",
       "6                                     [el, en, y, el]   \n",
       "7                                          [por, del]   \n",
       "8                                   [y, para, contra]   \n",
       "9                              [del, de, a, ante, el]   \n",
       "10                                 [el, yo, más, más]   \n",
       "\n",
       "                              Documento_sin_stopwords  \n",
       "0   mejor seleccionar presencialmente ver si covid...  \n",
       "1   italia registrar aumento muerte covid 19 últim...  \n",
       "2   borrell saludar acuerdo gobierno oposición com...  \n",
       "3   desgracia bogotá maneja dictadora intento auto...  \n",
       "4   gestionar regidor caja intubación paciente cov...  \n",
       "5   enhorabuena sanitario haber premio merecido pr...  \n",
       "6   dato caótico españa dobla muerto siete día sub...  \n",
       "7   minero colombiano recibir 100000 dólares emerg...  \n",
       "8   gobierno filántropo recaudar 7 400 mde vacuna ...  \n",
       "9         miembro congreso ee uu apoyar cuba covid 19  \n",
       "10             mundo parecer amable humano menos raro  "
      ]
     },
     "execution_count": 21,
     "metadata": {},
     "output_type": "execute_result"
    }
   ],
   "source": [
    "df"
   ]
  },
  {
   "cell_type": "code",
   "execution_count": 23,
   "id": "072d7b8b",
   "metadata": {},
   "outputs": [],
   "source": [
    "df.to_excel(r\"C:\\Users\\afpue\\Documents\\GitHub\\NLP-Seminar\\publicaciones\\binaria_limpio.xlsx\", index=False)"
   ]
  }
 ],
 "metadata": {
  "kernelspec": {
   "display_name": "Python 3",
   "language": "python",
   "name": "python3"
  },
  "language_info": {
   "codemirror_mode": {
    "name": "ipython",
    "version": 3
   },
   "file_extension": ".py",
   "mimetype": "text/x-python",
   "name": "python",
   "nbconvert_exporter": "python",
   "pygments_lexer": "ipython3",
   "version": "3.11.9"
  }
 },
 "nbformat": 4,
 "nbformat_minor": 5
}
