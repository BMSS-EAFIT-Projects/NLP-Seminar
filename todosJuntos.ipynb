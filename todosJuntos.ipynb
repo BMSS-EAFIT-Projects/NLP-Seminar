{
 "cells": [
  {
   "cell_type": "markdown",
   "id": "3e419b78",
   "metadata": {},
   "source": [
    "Librerias"
   ]
  },
  {
   "cell_type": "code",
   "execution_count": 49,
   "id": "5af7aa71",
   "metadata": {},
   "outputs": [],
   "source": [
    "import pandas as pd\n",
    "import numpy as np\n",
    "import re\n",
    "from collections import defaultdict, Counter\n",
    "import math"
   ]
  },
  {
   "cell_type": "markdown",
   "id": "de17e3b5",
   "metadata": {},
   "source": [
    "Archivos de entrenamiento"
   ]
  },
  {
   "cell_type": "code",
   "execution_count": 50,
   "id": "1a66e9d5",
   "metadata": {},
   "outputs": [],
   "source": [
    "archivo = r\"C:\\Users\\afpue\\Documents\\Seminario NLP\\NLP\\publicaciones\\binaria.xlsx\"\n",
    "df = pd.read_excel(archivo)\n",
    "\n",
    "def limpiar(texto):\n",
    "    texto = texto.lower()\n",
    "    return re.findall(r'\\b\\w+\\b', texto)\n",
    "\n",
    "docs = df['Documento'].apply(limpiar).tolist()\n",
    "clases = df['Clase'].tolist()\n"
   ]
  },
  {
   "cell_type": "markdown",
   "id": "276d25cb",
   "metadata": {},
   "source": [
    "Tweet de prueba"
   ]
  },
  {
   "cell_type": "code",
   "execution_count": 51,
   "id": "cf7138c8",
   "metadata": {},
   "outputs": [],
   "source": [
    "nuevo_procesado = limpiar(df.iloc[-1]['Documento'])\n",
    "clase_real = df.iloc[-1]['Clase']\n",
    "\n",
    "docs = df.iloc[:-1]['Documento'].apply(limpiar).tolist()\n",
    "clases = df.iloc[:-1]['Clase'].tolist()"
   ]
  },
  {
   "cell_type": "markdown",
   "id": "57e502fa",
   "metadata": {},
   "source": [
    "# Naive Bayes"
   ]
  },
  {
   "cell_type": "markdown",
   "id": "5244a40b",
   "metadata": {},
   "source": [
    "## Train function"
   ]
  },
  {
   "cell_type": "code",
   "execution_count": 52,
   "id": "860c2a8c",
   "metadata": {},
   "outputs": [],
   "source": [
    "def train_naive_bayes(D, C):\n",
    "    \"\"\"\n",
    "    Entrena un clasificador Multinomial Naive Bayes con add-1 smoothing.\n",
    "\n",
    "    Parámetros:\n",
    "    - D: lista de documentos (listas de palabras)\n",
    "    - C: lista de clases\n",
    "\n",
    "    Retorna:\n",
    "    - V: vocabulario (lista de palabras únicas)\n",
    "    - logprior: log P(c)\n",
    "    - loglikelihood: log P(w|c)\n",
    "    \"\"\"\n",
    "    N_doc = len(D)\n",
    "    logprior = {}\n",
    "    loglikelihood = {}\n",
    "    bigdoc = defaultdict(list)\n",
    "    vocab = set()\n",
    "\n",
    "    for doc, c in zip(D, C):\n",
    "        bigdoc[c].extend(doc)\n",
    "        vocab.update(doc)\n",
    "    \n",
    "    V = list(vocab)\n",
    "\n",
    "    for c in bigdoc:\n",
    "        Nc = C.count(c)\n",
    "        logprior[c] = math.log(Nc / N_doc)\n",
    "\n",
    "        word_counts = Counter(bigdoc[c])\n",
    "        denom = sum(word_counts[w] + 1 for w in V)  # denominador con add-1\n",
    "\n",
    "        for w in V:\n",
    "            num = word_counts[w] + 1\n",
    "            loglikelihood[(w, c)] = math.log(num / denom)\n",
    "\n",
    "    return V, logprior, loglikelihood"
   ]
  },
  {
   "cell_type": "markdown",
   "id": "c3de942d",
   "metadata": {},
   "source": [
    "## Test function"
   ]
  },
  {
   "cell_type": "code",
   "execution_count": 53,
   "id": "e9e36de6",
   "metadata": {},
   "outputs": [],
   "source": [
    "def test_naive_bayes(testdoc, logprior, loglikelihood, C, V, verbose=True):\n",
    "    \"\"\"\n",
    "    Clasifica un documento con el modelo entrenado.\n",
    "\n",
    "    Parámetros:\n",
    "    - testdoc: lista de palabras\n",
    "    - logprior, loglikelihood: parámetros entrenados\n",
    "    - C: lista de clases posibles\n",
    "    - V: vocabulario\n",
    "    - verbose: si True, imprime las probabilidades logarítmicas\n",
    "\n",
    "    Retorna:\n",
    "    - clase_predicha: clase con mayor score\n",
    "    \"\"\"\n",
    "    sum_scores = {}\n",
    "    V_set = set(V)\n",
    "\n",
    "    for c in C:\n",
    "        score = logprior[c]\n",
    "        for word in testdoc:\n",
    "            if word in V_set:\n",
    "                score += loglikelihood.get((word, c), 0.0)\n",
    "        sum_scores[c] = score\n",
    "\n",
    "    if verbose:\n",
    "        print(\"Log-probabilidades por clase:\")\n",
    "        for c, score in sum_scores.items():\n",
    "            print(f\"  {c}: {score:.4f}\")\n",
    "\n",
    "    return max(sum_scores, key=sum_scores.get)"
   ]
  },
  {
   "cell_type": "markdown",
   "id": "9440c532",
   "metadata": {},
   "source": [
    "## Implementation"
   ]
  },
  {
   "cell_type": "code",
   "execution_count": 54,
   "id": "5694632a",
   "metadata": {},
   "outputs": [
    {
     "name": "stdout",
     "output_type": "stream",
     "text": [
      "Log-probabilidades por clase:\n",
      "  Negativo: -15.4132\n",
      "  Positivo: -13.9209\n",
      "Tweet: ['el', 'mundo', 'me', 'parece', 'más', 'amable', 'más', 'humano', 'menos', 'raro']\n",
      "Clase real: Positivo\n",
      "Predicción: Positivo\n"
     ]
    }
   ],
   "source": [
    "V, logprior, loglikelihood = train_naive_bayes(docs, clases)\n",
    "\n",
    "prediccion = test_naive_bayes(nuevo_procesado, logprior, loglikelihood, list(set(clases)), V)\n",
    "\n",
    "print(\"Tweet:\", nuevo_procesado)\n",
    "print(\"Clase real:\", clase_real)\n",
    "print(\"Predicción:\", prediccion)"
   ]
  },
  {
   "cell_type": "markdown",
   "id": "9c6e6c7b",
   "metadata": {},
   "source": [
    "# Binary naive Bayes"
   ]
  },
  {
   "cell_type": "markdown",
   "id": "b6c49af0",
   "metadata": {},
   "source": [
    "## Train function"
   ]
  },
  {
   "cell_type": "code",
   "execution_count": 55,
   "id": "a6215d8d",
   "metadata": {},
   "outputs": [],
   "source": [
    "def train_binary_naive_bayes(D, C):\n",
    "    \"\"\"\n",
    "    Entrena un clasificador Binary Multinomial Naive Bayes con add-1 smoothing.\n",
    "    En este modelo solo se considera si una palabra aparece al menos una vez por documento.\n",
    "\n",
    "    Parámetros:\n",
    "    - D: lista de documentos (listas de palabras)\n",
    "    - C: lista de clases\n",
    "\n",
    "    Retorna:\n",
    "    - V: vocabulario (lista de palabras únicas)\n",
    "    - logprior: log P(c)\n",
    "    - loglikelihood: log P(w|c)\n",
    "    \"\"\"\n",
    "    N_doc = len(D)\n",
    "    logprior = {}\n",
    "    loglikelihood = {}\n",
    "    bigdoc = defaultdict(list)\n",
    "    vocab = set()\n",
    "    \n",
    "    bin_docs = [list(set(doc)) for doc in D]\n",
    "\n",
    "    for doc, c in zip(bin_docs, C):\n",
    "        bigdoc[c].extend(doc)\n",
    "        vocab.update(doc)\n",
    "    \n",
    "    V = list(vocab)\n",
    "    \n",
    "    for c in bigdoc:\n",
    "        Nc = C.count(c)\n",
    "        logprior[c] = math.log(Nc / N_doc)\n",
    "\n",
    "        word_counts = Counter(bigdoc[c])\n",
    "        denom = sum(word_counts[w] + 1 for w in V)  # add-1 smoothing\n",
    "\n",
    "        for w in V:\n",
    "            num = word_counts[w] + 1\n",
    "            loglikelihood[(w, c)] = math.log(num / denom)\n",
    "\n",
    "    return V, logprior, loglikelihood"
   ]
  },
  {
   "cell_type": "markdown",
   "id": "e351f996",
   "metadata": {},
   "source": [
    "## Test function"
   ]
  },
  {
   "cell_type": "code",
   "execution_count": 56,
   "id": "c6441191",
   "metadata": {},
   "outputs": [
    {
     "data": {
      "text/plain": [
       "'\\nEs la misma que la de naive bayes.\\n'"
      ]
     },
     "execution_count": 56,
     "metadata": {},
     "output_type": "execute_result"
    }
   ],
   "source": [
    "\"\"\"\n",
    "Es la misma que la de naive bayes.\n",
    "\"\"\""
   ]
  },
  {
   "cell_type": "markdown",
   "id": "049ef652",
   "metadata": {},
   "source": [
    "## Implementación"
   ]
  },
  {
   "cell_type": "code",
   "execution_count": 57,
   "id": "771a5342",
   "metadata": {},
   "outputs": [
    {
     "name": "stdout",
     "output_type": "stream",
     "text": [
      "Log-probabilidades por clase:\n",
      "  Negativo: -15.2948\n",
      "  Positivo: -13.8907\n",
      "Tweet: ['el', 'mundo', 'me', 'parece', 'más', 'amable', 'más', 'humano', 'menos', 'raro']\n",
      "Clase real: Positivo\n",
      "Predicción: Positivo\n"
     ]
    }
   ],
   "source": [
    "V, logprior, loglikelihood = train_binary_naive_bayes(docs, clases)\n",
    "\n",
    "prediccion = test_naive_bayes(nuevo_procesado, logprior, loglikelihood, list(set(clases)), V)\n",
    "\n",
    "print(\"Tweet:\", nuevo_procesado)\n",
    "print(\"Clase real:\", clase_real)\n",
    "print(\"Predicción:\", prediccion)"
   ]
  },
  {
   "cell_type": "code",
   "execution_count": null,
   "id": "a56c3ab4",
   "metadata": {},
   "outputs": [],
   "source": []
  }
 ],
 "metadata": {
  "kernelspec": {
   "display_name": "Python 3",
   "language": "python",
   "name": "python3"
  },
  "language_info": {
   "codemirror_mode": {
    "name": "ipython",
    "version": 3
   },
   "file_extension": ".py",
   "mimetype": "text/x-python",
   "name": "python",
   "nbconvert_exporter": "python",
   "pygments_lexer": "ipython3",
   "version": "3.11.9"
  }
 },
 "nbformat": 4,
 "nbformat_minor": 5
}
